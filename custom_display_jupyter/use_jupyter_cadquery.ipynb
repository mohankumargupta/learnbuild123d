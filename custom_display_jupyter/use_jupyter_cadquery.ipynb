{
 "cells": [
  {
   "cell_type": "code",
   "execution_count": null,
   "id": "ddad76bf",
   "metadata": {
    "lines_to_next_cell": 2
   },
   "outputs": [],
   "source": [
    "import jupyter_cadquery.cad_display as cd\n",
    "from jupyter_cadquery import show_object\n",
    "\n",
    "from build123d import *\n",
    "\n",
    "cd.SIDECAR.close()\n",
    "cd.SIDECAR = None\n",
    "\n",
    "box = Box(10,10,10)\n",
    "show_object(box)"
   ]
  }
 ],
 "metadata": {
  "jupytext": {
   "cell_metadata_filter": "-all",
   "main_language": "python",
   "notebook_metadata_filter": "-all"
  }
 },
 "nbformat": 4,
 "nbformat_minor": 5
}
