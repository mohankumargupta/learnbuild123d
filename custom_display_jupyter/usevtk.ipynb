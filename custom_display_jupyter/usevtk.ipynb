{
 "cells": [
  {
   "cell_type": "code",
   "execution_count": null,
   "id": "49306fed",
   "metadata": {},
   "outputs": [],
   "source": []
  },
  {
   "cell_type": "code",
   "execution_count": 11,
   "id": "27c58a7e",
   "metadata": {},
   "outputs": [],
   "source": [
    "import OCP\n",
    "import pyvista as pv\n",
    "from build123d import *"
   ]
  },
  {
   "cell_type": "code",
   "execution_count": 12,
   "id": "f3f1ca8a",
   "metadata": {},
   "outputs": [
    {
     "name": "stderr",
     "output_type": "stream",
     "text": [
      "C:\\Users\\Mohan\\Downloads\\vscode-build123d\\data\\tmp\\ipykernel_4436\\272193031.py:2: DeprecationWarning: make_compound() will be deprecated - use the Compound constructor instead\n",
      "  b = Compound.make_compound(box)\n"
     ]
    }
   ],
   "source": [
    "box = Box(10,10,10)\n",
    "b = Compound.make_compound(box)\n"
   ]
  },
  {
   "cell_type": "code",
   "execution_count": null,
   "id": "489ffae7",
   "metadata": {},
   "outputs": [
    {
     "ename": "TypeError",
     "evalue": "__init__(): incompatible constructor arguments. The following argument types are supported:\n    1. OCP.IVtkOCC.IVtkOCC_Shape(theShape: OCP.TopoDS.TopoDS_Shape, theDrawerLink: OCP.Prs3d.Prs3d_Drawer = None)\n\nInvoked with: Compound at 0x189e3f936d0, label(), #children(0)",
     "output_type": "error",
     "traceback": [
      "\u001b[1;31m---------------------------------------------------------------------------\u001b[0m",
      "\u001b[1;31mTypeError\u001b[0m                                 Traceback (most recent call last)",
      "Cell \u001b[1;32mIn[13], line 1\u001b[0m\n\u001b[1;32m----> 1\u001b[0m vs \u001b[38;5;241m=\u001b[39m \u001b[43mOCP\u001b[49m\u001b[38;5;241;43m.\u001b[39;49m\u001b[43mIVtkOCC\u001b[49m\u001b[38;5;241;43m.\u001b[39;49m\u001b[43mIVtkOCC_Shape\u001b[49m\u001b[43m(\u001b[49m\u001b[43mb\u001b[49m\u001b[43m)\u001b[49m\n\u001b[0;32m      2\u001b[0m sd \u001b[38;5;241m=\u001b[39m OCP\u001b[38;5;241m.\u001b[39mIVtkVTK\u001b[38;5;241m.\u001b[39mIVtkVTK_ShapeData()\n\u001b[0;32m      3\u001b[0m sm \u001b[38;5;241m=\u001b[39m OCP\u001b[38;5;241m.\u001b[39mIVtkOCC\u001b[38;5;241m.\u001b[39mIVtkOCC_ShapeMesher()\n",
      "\u001b[1;31mTypeError\u001b[0m: __init__(): incompatible constructor arguments. The following argument types are supported:\n    1. OCP.IVtkOCC.IVtkOCC_Shape(theShape: OCP.TopoDS.TopoDS_Shape, theDrawerLink: OCP.Prs3d.Prs3d_Drawer = None)\n\nInvoked with: Compound at 0x189e3f936d0, label(), #children(0)"
     ]
    }
   ],
   "source": [
    "vs = OCP.IVtkOCC.IVtkOCC_Shape(b.wrapped)\n",
    "sd = OCP.IVtkVTK.IVtkVTK_ShapeData()\n",
    "sm = OCP.IVtkOCC.IVtkOCC_ShapeMesher()\n",
    "sm.Build(vs,sd)"
   ]
  },
  {
   "cell_type": "code",
   "execution_count": null,
   "id": "f5b2842b",
   "metadata": {},
   "outputs": [],
   "source": [
    "res = sd.getVtkPolyData()"
   ]
  },
  {
   "cell_type": "code",
   "execution_count": null,
   "id": "b03b460c",
   "metadata": {},
   "outputs": [
    {
     "ename": "ValueError",
     "evalue": "Empty meshes cannot be plotted. Input mesh has zero points. To allow plotting empty meshes, set `pv.global_theme.allow_empty_mesh = True`",
     "output_type": "error",
     "traceback": [
      "\u001b[1;31m---------------------------------------------------------------------------\u001b[0m",
      "\u001b[1;31mValueError\u001b[0m                                Traceback (most recent call last)",
      "Cell \u001b[1;32mIn[10], line 2\u001b[0m\n\u001b[0;32m      1\u001b[0m mesh \u001b[38;5;241m=\u001b[39m pv\u001b[38;5;241m.\u001b[39mPolyData(res)\n\u001b[1;32m----> 2\u001b[0m \u001b[43mpv\u001b[49m\u001b[38;5;241;43m.\u001b[39;49m\u001b[43mplot\u001b[49m\u001b[43m(\u001b[49m\u001b[43mmesh\u001b[49m\u001b[43m,\u001b[49m\u001b[43m \u001b[49m\u001b[43msmooth_shading\u001b[49m\u001b[38;5;241;43m=\u001b[39;49m\u001b[38;5;28;43;01mTrue\u001b[39;49;00m\u001b[43m)\u001b[49m\n",
      "File \u001b[1;32mc:\\Users\\Mohan\\Developer\\python\\learnbuild123d\\.venv\\Lib\\site-packages\\pyvista\\_plot.py:272\u001b[0m, in \u001b[0;36mplot\u001b[1;34m(var_item, off_screen, full_screen, screenshot, interactive, cpos, window_size, show_bounds, show_axes, notebook, background, text, return_img, eye_dome_lighting, volume, parallel_projection, jupyter_backend, return_viewer, return_cpos, jupyter_kwargs, theme, anti_aliasing, zoom, border, border_color, border_width, ssao, **kwargs)\u001b[0m\n\u001b[0;32m    270\u001b[0m         pl\u001b[38;5;241m.\u001b[39madd_composite(var_item, \u001b[38;5;241m*\u001b[39m\u001b[38;5;241m*\u001b[39mkwargs)\n\u001b[0;32m    271\u001b[0m     \u001b[38;5;28;01melse\u001b[39;00m:\n\u001b[1;32m--> 272\u001b[0m         \u001b[43mpl\u001b[49m\u001b[38;5;241;43m.\u001b[39;49m\u001b[43madd_mesh\u001b[49m\u001b[43m(\u001b[49m\u001b[43mvar_item\u001b[49m\u001b[43m,\u001b[49m\u001b[43m \u001b[49m\u001b[38;5;241;43m*\u001b[39;49m\u001b[38;5;241;43m*\u001b[39;49m\u001b[43mkwargs\u001b[49m\u001b[43m)\u001b[49m\n\u001b[0;32m    274\u001b[0m \u001b[38;5;28;01mif\u001b[39;00m text:\n\u001b[0;32m    275\u001b[0m     pl\u001b[38;5;241m.\u001b[39madd_text(text)\n",
      "File \u001b[1;32mc:\\Users\\Mohan\\Developer\\python\\learnbuild123d\\.venv\\Lib\\site-packages\\pyvista\\plotting\\plotter.py:3661\u001b[0m, in \u001b[0;36mBasePlotter.add_mesh\u001b[1;34m(self, mesh, color, style, scalars, clim, show_edges, edge_color, point_size, line_width, opacity, flip_scalars, lighting, n_colors, interpolate_before_map, cmap, label, reset_camera, scalar_bar_args, show_scalar_bar, multi_colors, name, texture, render_points_as_spheres, render_lines_as_tubes, smooth_shading, split_sharp_edges, ambient, diffuse, specular, specular_power, nan_color, nan_opacity, culling, rgb, categories, silhouette, use_transparency, below_color, above_color, annotations, pickable, preference, log_scale, pbr, metallic, roughness, render, user_matrix, component, emissive, copy_mesh, backface_params, show_vertices, edge_opacity, **kwargs)\u001b[0m\n\u001b[0;32m   3657\u001b[0m         \u001b[38;5;28;01mraise\u001b[39;00m \u001b[38;5;167;01mValueError\u001b[39;00m(\u001b[38;5;124m'\u001b[39m\u001b[38;5;124mRGB array must be n_points/n_cells by 3/4 in shape.\u001b[39m\u001b[38;5;124m'\u001b[39m)\n\u001b[0;32m   3659\u001b[0m \u001b[38;5;28;01mif\u001b[39;00m algo \u001b[38;5;129;01mis\u001b[39;00m \u001b[38;5;28;01mNone\u001b[39;00m \u001b[38;5;129;01mand\u001b[39;00m \u001b[38;5;129;01mnot\u001b[39;00m \u001b[38;5;28mself\u001b[39m\u001b[38;5;241m.\u001b[39mtheme\u001b[38;5;241m.\u001b[39mallow_empty_mesh \u001b[38;5;129;01mand\u001b[39;00m \u001b[38;5;129;01mnot\u001b[39;00m mesh\u001b[38;5;241m.\u001b[39mn_points:\n\u001b[0;32m   3660\u001b[0m     \u001b[38;5;66;03m# Algorithms may initialize with an empty mesh\u001b[39;00m\n\u001b[1;32m-> 3661\u001b[0m     \u001b[38;5;28;01mraise\u001b[39;00m \u001b[38;5;167;01mValueError\u001b[39;00m(\n\u001b[0;32m   3662\u001b[0m         \u001b[38;5;124m'\u001b[39m\u001b[38;5;124mEmpty meshes cannot be plotted. Input mesh has zero points. To allow plotting empty meshes, set `pv.global_theme.allow_empty_mesh = True`\u001b[39m\u001b[38;5;124m'\u001b[39m,\n\u001b[0;32m   3663\u001b[0m     )\n\u001b[0;32m   3665\u001b[0m \u001b[38;5;66;03m# set main values\u001b[39;00m\n\u001b[0;32m   3666\u001b[0m \u001b[38;5;28mself\u001b[39m\u001b[38;5;241m.\u001b[39mmesh \u001b[38;5;241m=\u001b[39m mesh\n",
      "\u001b[1;31mValueError\u001b[0m: Empty meshes cannot be plotted. Input mesh has zero points. To allow plotting empty meshes, set `pv.global_theme.allow_empty_mesh = True`"
     ]
    }
   ],
   "source": [
    "mesh = pv.PolyData(res)\n",
    "pv.plot(mesh, smooth_shading=True)"
   ]
  }
 ],
 "metadata": {
  "jupytext": {
   "cell_metadata_filter": "-all",
   "main_language": "python",
   "notebook_metadata_filter": "-all"
  },
  "kernelspec": {
   "display_name": ".venv",
   "language": "python",
   "name": "python3"
  },
  "language_info": {
   "codemirror_mode": {
    "name": "ipython",
    "version": 3
   },
   "file_extension": ".py",
   "mimetype": "text/x-python",
   "name": "python",
   "nbconvert_exporter": "python",
   "pygments_lexer": "ipython3",
   "version": "3.11.9"
  }
 },
 "nbformat": 4,
 "nbformat_minor": 5
}
