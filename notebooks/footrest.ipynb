{
 "cells": [
  {
   "cell_type": "code",
   "execution_count": 1,
   "id": "992a0b2f",
   "metadata": {},
   "outputs": [],
   "source": [
    "\n",
    "\n",
    "from build123d import *\n",
    "from math import atan2\n",
    "\n",
    "\n",
    "LENGTH = 220\n",
    "WIDTH = 70\n",
    "HEIGHT = 50\n",
    "\n",
    "with BuildPart() as side_builder:\n",
    "    with BuildSketch(Plane.YZ) as side_sketch:\n",
    "        with BuildLine() as side_lines:\n",
    "            l1 = Line((0,50),(70,50))\n",
    "            l2 = Line(l1@0, (0,0))\n",
    "            l3 = PolarLine(l1@1, length=7, direction=Vector(-70,-50).normalized())\n",
    "            l4 = PolarLine(l2@1, length=7, direction=Vector(70,50).normalized())\n",
    "            l5 = RadiusArc(l3@1, l4@1,radius=-120.)\n",
    "        face = make_face()\n",
    "    extrude(amount=-LENGTH)\n",
    "side_part = side_builder.part\n",
    "#side_part"
   ]
  },
  {
   "cell_type": "code",
   "execution_count": 2,
   "id": "a48baacd",
   "metadata": {},
   "outputs": [],
   "source": [
    "assert 1==1"
   ]
  },
  {
   "cell_type": "code",
   "execution_count": 3,
   "id": "62dbcb3d",
   "metadata": {},
   "outputs": [],
   "source": [
    "from build123d import *\n",
    "from math import atan2\n",
    "\n",
    "LENGTH = 220\n",
    "WIDTH = 70\n",
    "HEIGHT = 50\n",
    "\n",
    "with BuildPart() as front_builder:\n",
    "    with BuildSketch(Plane.XZ.offset(-70)) as front_sketch:\n",
    "        # with BuildLine() as lines:\n",
    "        #     pts = [\n",
    "        #         (0,0),\n",
    "        #         (0,50),\n",
    "        #         (-220,50),\n",
    "        #         (-170,0)\n",
    "        #     ]\n",
    "        #     Polyline(pts, close=True)\n",
    "        #make_face()\n",
    "        Rectangle(220,50, align=(Align.MAX, Align.MIN))\n",
    "        with Locations((-170,0)):\n",
    "            Triangle(a=50, b=50, C=90, rotation=180, align=(Align.MIN, Align.MAX), mode=Mode.SUBTRACT)\n",
    "    extrude(amount=70)\n",
    "\n",
    "front_part = front_builder.part"
   ]
  },
  {
   "cell_type": "code",
   "execution_count": 4,
   "id": "218b4930",
   "metadata": {},
   "outputs": [],
   "source": [
    "assert 1==1"
   ]
  },
  {
   "cell_type": "code",
   "execution_count": 5,
   "id": "16ce994d",
   "metadata": {},
   "outputs": [],
   "source": [
    "from build123d import *\n",
    "from math import atan2\n",
    "\n",
    "LENGTH = 220\n",
    "WIDTH = 70\n",
    "HEIGHT = 50\n",
    "\n",
    "with BuildPart() as bottom_builder:\n",
    "    with BuildSketch(Plane.XZ) as side_sketch:\n",
    "        Rectangle(220,70, align=(Align.MIN, Align.MIN))\n",
    "        with Locations((70-220,70)):\n",
    "            Triangle(a=70, b=70, C=90, rotation=-90, align=(Align.MIN, Align.MAX), mode=Mode.SUBTRACT)\n",
    "    extrude(amount=50)\n",
    "\n",
    "bottom_part = bottom_builder.part"
   ]
  },
  {
   "cell_type": "code",
   "execution_count": 6,
   "id": "92d6731e",
   "metadata": {
    "lines_to_next_cell": 2
   },
   "outputs": [],
   "source": [
    "assert 1==1"
   ]
  },
  {
   "cell_type": "code",
   "execution_count": 7,
   "id": "38c6063b",
   "metadata": {
    "lines_to_next_cell": 3
   },
   "outputs": [
    {
     "data": {
      "application/javascript": "\n\nfunction render(data, parent_element, ratio){\n\n    // Initial setup\n    const renderWindow = vtk.Rendering.Core.vtkRenderWindow.newInstance();\n    const renderer = vtk.Rendering.Core.vtkRenderer.newInstance({ background: [1, 1, 1 ] });\n    renderWindow.addRenderer(renderer);\n\n    // iterate over all children children\n    for (var el of data){\n        var trans = el.position;\n        var rot = el.orientation;\n        var rgba = el.color;\n        var shape = el.shape;\n\n        // load the inline data\n        var reader = vtk.IO.XML.vtkXMLPolyDataReader.newInstance();\n        const textEncoder = new TextEncoder();\n        reader.parseAsArrayBuffer(textEncoder.encode(shape));\n\n        // setup actor,mapper and add\n        const mapper = vtk.Rendering.Core.vtkMapper.newInstance();\n        mapper.setInputConnection(reader.getOutputPort());\n        mapper.setResolveCoincidentTopologyToPolygonOffset();\n        mapper.setResolveCoincidentTopologyPolygonOffsetParameters(0.5,100);\n\n        const actor = vtk.Rendering.Core.vtkActor.newInstance();\n        actor.setMapper(mapper);\n\n        // set color and position\n        actor.getProperty().setColor(rgba.slice(0,3));\n        actor.getProperty().setOpacity(rgba[3]);\n\n        actor.rotateZ(rot[2]*180/Math.PI);\n        actor.rotateY(rot[1]*180/Math.PI);\n        actor.rotateX(rot[0]*180/Math.PI);\n\n        actor.setPosition(trans);\n\n        renderer.addActor(actor);\n\n    };\n\n    renderer.resetCamera();\n\n    const openglRenderWindow = vtk.Rendering.OpenGL.vtkRenderWindow.newInstance();\n    renderWindow.addView(openglRenderWindow);\n\n    // Add output to the \"parent element\"\n    var container;\n    var dims;\n\n    if(typeof(parent_element.appendChild) !== \"undefined\"){\n        container = document.createElement(\"div\");\n        parent_element.appendChild(container);\n        dims = parent_element.getBoundingClientRect();\n    }else{\n        container = parent_element.append(\"<div/>\").children(\"div:last-child\").get(0);\n        dims = parent_element.get(0).getBoundingClientRect();\n    };\n\n    openglRenderWindow.setContainer(container);\n\n    // handle size\n    if (ratio){\n        openglRenderWindow.setSize(dims.width, dims.width*ratio);\n    }else{\n        openglRenderWindow.setSize(dims.width, dims.height);\n    };\n\n    // Interaction setup\n    const interact_style = vtk.Interaction.Style.vtkInteractorStyleManipulator.newInstance();\n\n    const manips = {\n        rot: vtk.Interaction.Manipulators.vtkMouseCameraTrackballRotateManipulator.newInstance(),\n        pan: vtk.Interaction.Manipulators.vtkMouseCameraTrackballPanManipulator.newInstance(),\n        zoom1: vtk.Interaction.Manipulators.vtkMouseCameraTrackballZoomManipulator.newInstance(),\n        zoom2: vtk.Interaction.Manipulators.vtkMouseCameraTrackballZoomManipulator.newInstance(),\n        roll: vtk.Interaction.Manipulators.vtkMouseCameraTrackballRollManipulator.newInstance(),\n    };\n\n    manips.zoom1.setControl(true);\n    manips.zoom2.setScrollEnabled(true);\n    manips.roll.setShift(true);\n    manips.pan.setButton(2);\n\n    for (var k in manips){\n        interact_style.addMouseManipulator(manips[k]);\n    };\n\n    const interactor = vtk.Rendering.Core.vtkRenderWindowInteractor.newInstance();\n    interactor.setView(openglRenderWindow);\n    interactor.initialize();\n    interactor.bindEvents(container);\n    interactor.setInteractorStyle(interact_style);\n\n    // Orientation marker\n\n    const axes = vtk.Rendering.Core.vtkAnnotatedCubeActor.newInstance();\n    axes.setXPlusFaceProperty({text: '+X'});\n    axes.setXMinusFaceProperty({text: '-X'});\n    axes.setYPlusFaceProperty({text: '+Y'});\n    axes.setYMinusFaceProperty({text: '-Y'});\n    axes.setZPlusFaceProperty({text: '+Z'});\n    axes.setZMinusFaceProperty({text: '-Z'});\n\n    const orientationWidget = vtk.Interaction.Widgets.vtkOrientationMarkerWidget.newInstance({\n        actor: axes,\n        interactor: interactor });\n    orientationWidget.setEnabled(true);\n    orientationWidget.setViewportCorner(vtk.Interaction.Widgets.vtkOrientationMarkerWidget.Corners.BOTTOM_LEFT);\n    orientationWidget.setViewportSize(0.2);\n\n};\n\n\nnew Promise(\n  function(resolve, reject)\n  {\n    if (typeof(require) !== \"undefined\" ){\n        require.config({\n         \"paths\": {\"vtk\": \"https://unpkg.com/vtk\"},\n        });\n        require([\"vtk\"], resolve, reject);\n    } else if ( typeof(vtk) === \"undefined\" ){\n        var script = document.createElement(\"script\");\n    \tscript.onload = resolve;\n    \tscript.onerror = reject;\n    \tscript.src = \"https://unpkg.com/vtk.js\";\n    \tdocument.head.appendChild(script);\n    } else { resolve() };\n }\n).then(() => {\n    var parent_element = element;\n    var data = [{\"shape\": \"<?xml version=\\\"1.0\\\"?>\\n<VTKFile type=\\\"PolyData\\\" version=\\\"0.1\\\" byte_order=\\\"LittleEndian\\\" header_type=\\\"UInt32\\\" compressor=\\\"vtkZLibDataCompressor\\\">\\n  <PolyData>\\n    <Piece NumberOfPoints=\\\"260\\\"                  NumberOfVerts=\\\"10\\\"                   NumberOfLines=\\\"123\\\"                  NumberOfStrips=\\\"0\\\"                    NumberOfPolys=\\\"68\\\"                  >\\n      <PointData Normals=\\\"Normals\\\">\\n        <DataArray type=\\\"Float32\\\" Name=\\\"Normals\\\" NumberOfComponents=\\\"3\\\" format=\\\"appended\\\" RangeMin=\\\"0\\\"                    RangeMax=\\\"1.0000001005\\\"         offset=\\\"0\\\"                   />\\n      </PointData>\\n      <CellData Normals=\\\"Normals\\\">\\n        <DataArray type=\\\"Int64\\\" IdType=\\\"1\\\" Name=\\\"SUBSHAPE_IDS\\\" format=\\\"appended\\\" RangeMin=\\\"4\\\"                    RangeMax=\\\"41\\\"                   offset=\\\"868\\\"                 />\\n        <DataArray type=\\\"Int64\\\" IdType=\\\"1\\\" Name=\\\"MESH_TYPES\\\" format=\\\"appended\\\" RangeMin=\\\"2\\\"                    RangeMax=\\\"7\\\"                    offset=\\\"1020\\\"                />\\n        <DataArray type=\\\"Float32\\\" Name=\\\"Normals\\\" NumberOfComponents=\\\"3\\\" format=\\\"appended\\\" RangeMin=\\\"0.99999996767\\\"        RangeMax=\\\"1.0000000284\\\"         offset=\\\"1084\\\"                />\\n      </CellData>\\n      <Points>\\n        <DataArray type=\\\"Float32\\\" Name=\\\"Points\\\" NumberOfComponents=\\\"3\\\" format=\\\"appended\\\" RangeMin=\\\"0\\\"                    RangeMax=\\\"220\\\"                  offset=\\\"1884\\\"                />\\n      </Points>\\n      <Verts>\\n        <DataArray type=\\\"Int64\\\" Name=\\\"connectivity\\\" format=\\\"appended\\\" RangeMin=\\\"\\\"                     RangeMax=\\\"\\\"                     offset=\\\"2588\\\"                />\\n        <DataArray type=\\\"Int64\\\" Name=\\\"offsets\\\" format=\\\"appended\\\" RangeMin=\\\"\\\"                     RangeMax=\\\"\\\"                     offset=\\\"2660\\\"                />\\n      </Verts>\\n      <Lines>\\n        <DataArray type=\\\"Int64\\\" Name=\\\"connectivity\\\" format=\\\"appended\\\" RangeMin=\\\"\\\"                     RangeMax=\\\"\\\"                     offset=\\\"2732\\\"                />\\n        <DataArray type=\\\"Int64\\\" Name=\\\"offsets\\\" format=\\\"appended\\\" RangeMin=\\\"\\\"                     RangeMax=\\\"\\\"                     offset=\\\"3196\\\"                />\\n      </Lines>\\n      <Strips>\\n        <DataArray type=\\\"Int64\\\" Name=\\\"connectivity\\\" format=\\\"appended\\\" RangeMin=\\\"\\\"                     RangeMax=\\\"\\\"                     offset=\\\"3540\\\"                />\\n        <DataArray type=\\\"Int64\\\" Name=\\\"offsets\\\" format=\\\"appended\\\" RangeMin=\\\"\\\"                     RangeMax=\\\"\\\"                     offset=\\\"3556\\\"                />\\n      </Strips>\\n      <Polys>\\n        <DataArray type=\\\"Int64\\\" Name=\\\"connectivity\\\" format=\\\"appended\\\" RangeMin=\\\"\\\"                     RangeMax=\\\"\\\"                     offset=\\\"3572\\\"                />\\n        <DataArray type=\\\"Int64\\\" Name=\\\"offsets\\\" format=\\\"appended\\\" RangeMin=\\\"\\\"                     RangeMax=\\\"\\\"                     offset=\\\"3984\\\"                />\\n      </Polys>\\n    </Piece>\\n  </PolyData>\\n  <AppendedData encoding=\\\"base64\\\">\\n   _AQAAAACAAAAwDAAAeQIAAA==eJxjYBgFo2AUjIJRMApGwSigNmiwJ45NrLqhwGZgYDsjYn89IGA/MexnLKb7f5RO38rAamp/E8gOOq+3jQ/I/gxkT/Pj2wyk7dlZTfdb28wxfQBk/wOK1zY8N3kJZL8BsmUuL9n6G8j+AmRr+dls/QRkfwCyQyJMTH8A2UD+fqfF502A8vZfgWyWN05bQGq+AdlsrrlbgGrtger2xxre3/IeyH4HZG9JfGwM0vsayI7W2mjyF2rmvCQxk29QNxxQMdnyCqrXNfHnZpA5QD/sz/LsN30OZAsA2RFRr0yvgcQhYbQfKbzwsue4HdmhMme53cMnhfuv6SzdMf/nNjsZifz98mpTdmw3PWt3oTNrP9vtZTtWaTy0O/4qdX8mb+WON3++2C08lbD/xDTOHT8rWexn8UXv37D4/Habh/z2L/YG7xcX+r/d8r6U/f9r3vtlQ/V3vGdRsf/W67J/5bagHZKXdezv3LbZ/8pLb8e9TFP7i/NN9off7tvO89zWPmyt9n6nF61mRpJu9lvVlMDuUznpYX/gvByYLcCw1G5meNH+gLtmFtytHvabVOX3s19Ms+j+62Sv+0B1f1N7psXyZCt74xr9/SqskhbXTxvaL9K32P9Habc5m7umfR63w36Lee7m5pMU7Ocluu8/ePn+Vusecfv9QX77zaZ5b5R/zG8/f0/w/lnKk7aysXLYf7wfsX87r5y57ek/dufmxe2farTDjIP1ld2+jcn72zezbGM4cd2uXj1j/zSNZ9s/thy1e6WXs//ZPKvtW0t32PGdz9t/+nHcDtVLq+w+hxTun+LcvYgdmA6vQdMkjD3FmXsxgo1QAwBz+jvVAQAAAACAAABIBgAAXwAAAA==eJzl0jkOQGAUAGGF2IldLLGGcP8LKkyleR0v+af5LjCu9eRhgBFmWGCFHU44o4M+hhhjivlHllhjiz2OuPzkijueaAsmSmwEB6VugodhXoJa/tP6l2n/vP+4AXzMFWk=AQAAAACAAABIBgAAHQAAAA==eJxjYoAAJirRrKP0KD1KDzuafZQepfHQAEVsBFg=AQAAAACAAABsCQAARgIAAA==eJxjYGiwZ4CDUfYoe5Q9yh5lj7KJYaOINSDYcDUNg4DNQJx6Bga2MyL21wMC9iOzb7KY7g86r7eNj9XU/juQndK7f+sHFlP7T0D2tHPnjb4A2W+AbEnJjaa/gOwfQPaHPqGt76Fqdia7mHwFsj8D2WdP7TIB0va/gezC3epbgfrsgXL7N1yP3QJUa/8CyN4054HJPyD7LZDNtKPRBGQm0I7990NUjUF62VlN98ecP7HlAVR9sa2EyX8gWxko7pHla3YYyAbq31/b8NzkJdRekH9AeqF+3o8UV3C2AMNSu5nhRfsFDgXu8Fqx384iOXf/+lcvzMMtNtq90SnY/9DVZedPs1V20QWF+08un2lRr3nBTvhx5v6W+Ls7elcesFPWz92f2HPJYknuA7tKibT9oUE2O1esv2ZXkJGx3zl2nsUPv492J08k7p9joL7zsc0bu69yyftPHnGxmHiN0b5nYcx+rtqjO5YuYrBfEBq73+ZWw9ZD+SL28ycF7N/E12Bq6cptb3U2bP+j8rAd6fe47A/yh++X3mVuMTdQ1l7yq+d+gXUeOziB8XUFGF99h5daOL5QtV/9zWn/1RPbdjxNlbPfKOO5/13NHYtp+nr2i2dZ769783XHomXq9pHljvvNT4paTploZv+0xHi/m6fgTtZOA3v5VMv9R5sVLKsL7O31v2nuX2bIvpOLw9J+8iuD/Q53t1mcc/Cw76iW3699eO6OT3KO9gU8GuAwVjnpYX/gvNz+Kc7ci9mB7rkGTUswNgAXNXnPAQAAAACAAAAwDAAA/AEAAA==eJxjYIABDycI3eMEYWsdRmUj1EyZ3eC0fqc5mL3bbZtDm1GTAwMSmCKodxihJgas105YWD3nXfhhTPXo9uJzA3b3INjo4ggzkd2MzE78m+3kZmcAZkcrhzs5H1MHsy9vcXLKDpMDsz326jnxfREGs3+4SzsxL+UAs6/GczgF3P/hCGJzyL9x3L71Hpi97NAJx2+3D4HZ2fuWOe5IXApm16i2OU4JbwOzk0T8HNnmeYPZkn+EHJdtYXfEFZ7YxZH9Dg13qL9Qwx8RbsTECzJb8VXQYXk+acfXsYKO/nJ+h1204x3FpeMcixm8Dkt/7nfM/tPv2F7udpg5fZ3jUec1josknQ+/4znn+MHouGPCC/vDa66+c/y/54Gj11Obw4ciOJw2X/3heFHQ6rD0CUmnfTvYnQLyzQ+3btB2OuAk5KRrbXr4uZ6Nk7ewtNOXJOPDy/y9nfRLlJx+rDE8bLshyknRR9PpoKTB4aveWU5/Zug7JfDoHw7cUupUf84Yp7+wpxMQQFaDCFv6p09C5o+MdEvIv8SlZ1zxMlzTOa5wwJUOCeULbPECA8h6iTEHd30xmNMttrQx9NMJrnyECgiFA+F6HD2doKcrbGkSOa3iUj900g8qwOZ+0upiXGGFrHeopEnM+IUBXGXU0Ih35LgYimUFeqollN8BKZ5+hw==AQAAAACAAABQAAAAIgAAAA==eJwtxbcBACAIADAsiP7/sAPJkog2PL28nT4uXz9/BXgALg==AQAAAACAAABQAAAAIgAAAA==eJwtxbcBACAIADA76v8HM5As6a0MTy9vH4evn78TBzAAOA==AQAAAACAAACwBwAASAEAAA==eJxdxUcjEAAAQOHOJYWGSiiV2aBUlKSytxahtAltkTIjDaUQJSUqkpB/6OCd3nf5Vq9asYYDeC0H8jpez0EczCG8gTfqTXqzDtVb9Fa9TYfp7TpcR+hIvYN3chTv4t28h6M5hmM5juM5gffqfXq/PqATdZI+qA/pZH1YH9FHdYpO1cf4OKfxCU7nk5zBp/g0n+FMzuJszuFczuN8LuBCLuJiXaJLdZk+q8/p8/qCvqjLdYW+pCu5iqv5Ml/hGr7K1/g63+CbfItvcy3X8R2u1w26Ud/V9/R9/UA/1I/0Y92kn+hm3aKfcis/4+fcxu3cwZ3cxd38gnu4l19yH7/i1/qNfqv79Tv9Xg/oD/qjHtRDelh/4hEe5c/8RY/pr3pcf9Pf9YT+oSf1lP6pf+nfelrP8B+e5b88x/94nhd4kf/zEi8DmJha/g==AQAAAACAAADYAwAA7gAAAA==eJwtxUEoBAAAADBJkiRJkiRJkiRJkiRJkiRJkiRJkiRJkiRJ0nVJkiRJkiRJkiRJkiRJkiRJkiRJkreH7bPQkH9hDneEIx3laMc41nGOd4ITneRkpzjVaU53hjOd5WznONd5zneBC13kYpe41GUud4UrXeVq17jWda53gxvd5Ga3uNVtbneHO93lbve4133u94AHPeRhj3jUYx73hAMOetJTnvaMZz3neS940Ute9opXveZ1b3jTW972jne9530f+NBHPvaJT33mc1/40le+9o1vfed7P/jRT372i1/95nd/+NNf/vaPf/0Hm7s7lQ==AAAAAACAAAAAAAAAAAAAAACAAAAAAAAAAQAAAACAAABgBgAAIgEAAA==eJxdkNVWAmAYBEXf/2VERcUWsbG7O8HuwAt2Lhxu5uzstz8cim2tT1fYGRbDbvV9YW9YCqvhRFgJe8KBsCw/qB4/pB4/rB4/oh4/qh4/ph4/rh5fUY+vqsfzP5Xk+9Xjy+qnwulwUn5G/WI4F86G8+GS7vDL6vEr6vGr6vFr6vF8H79nXffcbajHb6rHb6nHb6vH76jH76rH18I93eEX1Nd0xzsH4X54KE8+Co/DZngfnoQ/4a88uSlP5t3T8FvvnSqzPwu/tDtTZn8efmp3rsz+IvzQ7kKZ/WX4Fr7Lkz/kybx7Fb7qvStl9tfhi3bXyuxvwmftbpTZ34ZP2t0qs6+Hj9rVldk3wgftGsrs73TPXVuhhfawIywU/vf4PzR9qAc=AQAAAACAAAAgAgAAkgAAAA==eJwtxdFmAgAAAMCIGBERIyJGRETEGBERMUZERERERIwxRsQYERERETEiIiIiIqKP6qG7lwsGHkJ+ctgRRx3zs+NOOOkXp5x2xlnnnPer31xw0SWXXfG7P1x1zXU33HTLbXfcdc99f/rL3/7xwEP/+s8jjz3x1DPPvfDSK/977Y233nnvg48++eyLr775Dg8sG38=\\n  </AppendedData>\\n</VTKFile>\\n\", \"color\": [1, 0.8, 0, 1], \"position\": [0, 0, 0], \"orientation\": [0, 0, 0]}];\n    render(data, parent_element, 0.5);\n});\n",
      "text/plain": [
       "Part at 0x228c1639a50, label(), #children(0)"
      ]
     },
     "execution_count": 7,
     "metadata": {},
     "output_type": "execute_result"
    }
   ],
   "source": [
    "\n",
    "# with BuildPart() as text_builder:\n",
    "#     with BuildSketch() as text_sketch:\n",
    "#         with Locations((300,0)):\n",
    "#             Text(\"X-Axis_________>\", font_size=30., align=(Align.CENTER, Align.CENTER))\n",
    "#         with Locations((0,300)):\n",
    "#             Text(\"Y-Axis\", font_size=30., align=(Align.CENTER, Align.CENTER))\n",
    "#     extrude(amount=10)    \n",
    "\n",
    "\n",
    "with BuildPart() as footrest_builder:\n",
    "    add(side_builder)\n",
    "    add(front_builder, mode=Mode.INTERSECT)\n",
    "    #add(bottom_builder)\n",
    "    #Sphere(radius=20)\n",
    "    #add(text_builder)\n",
    "\n",
    "footrest = footrest_builder.part\n",
    "footrest"
   ]
  }
 ],
 "metadata": {
  "jupytext": {
   "cell_metadata_filter": "-all",
   "main_language": "python",
   "notebook_metadata_filter": "-all"
  },
  "kernelspec": {
   "display_name": ".venv",
   "language": "python",
   "name": "python3"
  },
  "language_info": {
   "codemirror_mode": {
    "name": "ipython",
    "version": 3
   },
   "file_extension": ".py",
   "mimetype": "text/x-python",
   "name": "python",
   "nbconvert_exporter": "python",
   "pygments_lexer": "ipython3",
   "version": "3.11.9"
  }
 },
 "nbformat": 4,
 "nbformat_minor": 5
}
