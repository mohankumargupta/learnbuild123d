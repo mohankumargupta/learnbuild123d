{
 "cells": [
  {
   "cell_type": "code",
   "execution_count": 9,
   "id": "9c1df213",
   "metadata": {},
   "outputs": [
    {
     "data": {
      "application/javascript": "\n\nfunction render(data, parent_element, ratio){\n\n    // Initial setup\n    const renderWindow = vtk.Rendering.Core.vtkRenderWindow.newInstance();\n    const renderer = vtk.Rendering.Core.vtkRenderer.newInstance({ background: [1, 1, 1 ] });\n    renderWindow.addRenderer(renderer);\n\n    // iterate over all children children\n    for (var el of data){\n        var trans = el.position;\n        var rot = el.orientation;\n        var rgba = el.color;\n        var shape = el.shape;\n\n        // load the inline data\n        var reader = vtk.IO.XML.vtkXMLPolyDataReader.newInstance();\n        const textEncoder = new TextEncoder();\n        reader.parseAsArrayBuffer(textEncoder.encode(shape));\n\n        // setup actor,mapper and add\n        const mapper = vtk.Rendering.Core.vtkMapper.newInstance();\n        mapper.setInputConnection(reader.getOutputPort());\n        mapper.setResolveCoincidentTopologyToPolygonOffset();\n        mapper.setResolveCoincidentTopologyPolygonOffsetParameters(0.5,100);\n\n        const actor = vtk.Rendering.Core.vtkActor.newInstance();\n        actor.setMapper(mapper);\n\n        // set color and position\n        actor.getProperty().setColor(rgba.slice(0,3));\n        actor.getProperty().setOpacity(rgba[3]);\n\n        actor.rotateZ(rot[2]*180/Math.PI);\n        actor.rotateY(rot[1]*180/Math.PI);\n        actor.rotateX(rot[0]*180/Math.PI);\n\n        actor.setPosition(trans);\n\n        renderer.addActor(actor);\n\n    };\n\n    renderer.resetCamera();\n\n    const openglRenderWindow = vtk.Rendering.OpenGL.vtkRenderWindow.newInstance();\n    renderWindow.addView(openglRenderWindow);\n\n    // Add output to the \"parent element\"\n    var container;\n    var dims;\n\n    if(typeof(parent_element.appendChild) !== \"undefined\"){\n        container = document.createElement(\"div\");\n        parent_element.appendChild(container);\n        dims = parent_element.getBoundingClientRect();\n    }else{\n        container = parent_element.append(\"<div/>\").children(\"div:last-child\").get(0);\n        dims = parent_element.get(0).getBoundingClientRect();\n    };\n\n    openglRenderWindow.setContainer(container);\n\n    // handle size\n    if (ratio){\n        openglRenderWindow.setSize(dims.width, dims.width*ratio);\n    }else{\n        openglRenderWindow.setSize(dims.width, dims.height);\n    };\n\n    // Interaction setup\n    const interact_style = vtk.Interaction.Style.vtkInteractorStyleManipulator.newInstance();\n\n    const manips = {\n        rot: vtk.Interaction.Manipulators.vtkMouseCameraTrackballRotateManipulator.newInstance(),\n        pan: vtk.Interaction.Manipulators.vtkMouseCameraTrackballPanManipulator.newInstance(),\n        zoom1: vtk.Interaction.Manipulators.vtkMouseCameraTrackballZoomManipulator.newInstance(),\n        zoom2: vtk.Interaction.Manipulators.vtkMouseCameraTrackballZoomManipulator.newInstance(),\n        roll: vtk.Interaction.Manipulators.vtkMouseCameraTrackballRollManipulator.newInstance(),\n    };\n\n    manips.zoom1.setControl(true);\n    manips.zoom2.setScrollEnabled(true);\n    manips.roll.setShift(true);\n    manips.pan.setButton(2);\n\n    for (var k in manips){\n        interact_style.addMouseManipulator(manips[k]);\n    };\n\n    const interactor = vtk.Rendering.Core.vtkRenderWindowInteractor.newInstance();\n    interactor.setView(openglRenderWindow);\n    interactor.initialize();\n    interactor.bindEvents(container);\n    interactor.setInteractorStyle(interact_style);\n\n    // Orientation marker\n\n    const axes = vtk.Rendering.Core.vtkAnnotatedCubeActor.newInstance();\n    axes.setXPlusFaceProperty({text: '+X'});\n    axes.setXMinusFaceProperty({text: '-X'});\n    axes.setYPlusFaceProperty({text: '+Y'});\n    axes.setYMinusFaceProperty({text: '-Y'});\n    axes.setZPlusFaceProperty({text: '+Z'});\n    axes.setZMinusFaceProperty({text: '-Z'});\n\n    const orientationWidget = vtk.Interaction.Widgets.vtkOrientationMarkerWidget.newInstance({\n        actor: axes,\n        interactor: interactor });\n    orientationWidget.setEnabled(true);\n    orientationWidget.setViewportCorner(vtk.Interaction.Widgets.vtkOrientationMarkerWidget.Corners.BOTTOM_LEFT);\n    orientationWidget.setViewportSize(0.2);\n\n};\n\n\nnew Promise(\n  function(resolve, reject)\n  {\n    if (typeof(require) !== \"undefined\" ){\n        require.config({\n         \"paths\": {\"vtk\": \"https://unpkg.com/vtk\"},\n        });\n        require([\"vtk\"], resolve, reject);\n    } else if ( typeof(vtk) === \"undefined\" ){\n        var script = document.createElement(\"script\");\n    \tscript.onload = resolve;\n    \tscript.onerror = reject;\n    \tscript.src = \"https://unpkg.com/vtk.js\";\n    \tdocument.head.appendChild(script);\n    } else { resolve() };\n }\n).then(() => {\n    var parent_element = element;\n    var data = [{\"shape\": \"<?xml version=\\\"1.0\\\"?>\\n<VTKFile type=\\\"PolyData\\\" version=\\\"0.1\\\" byte_order=\\\"LittleEndian\\\" header_type=\\\"UInt32\\\" compressor=\\\"vtkZLibDataCompressor\\\">\\n  <PolyData>\\n    <Piece NumberOfPoints=\\\"240\\\"                  NumberOfVerts=\\\"10\\\"                   NumberOfLines=\\\"111\\\"                  NumberOfStrips=\\\"0\\\"                    NumberOfPolys=\\\"60\\\"                  >\\n      <PointData Normals=\\\"Normals\\\">\\n        <DataArray type=\\\"Float32\\\" Name=\\\"Normals\\\" NumberOfComponents=\\\"3\\\" format=\\\"appended\\\" RangeMin=\\\"0\\\"                    RangeMax=\\\"1.0000000704\\\"         offset=\\\"0\\\"                   />\\n      </PointData>\\n      <CellData Normals=\\\"Normals\\\">\\n        <DataArray type=\\\"Int64\\\" IdType=\\\"1\\\" Name=\\\"SUBSHAPE_IDS\\\" format=\\\"appended\\\" RangeMin=\\\"4\\\"                    RangeMax=\\\"41\\\"                   offset=\\\"336\\\"                 />\\n        <DataArray type=\\\"Int64\\\" IdType=\\\"1\\\" Name=\\\"MESH_TYPES\\\" format=\\\"appended\\\" RangeMin=\\\"2\\\"                    RangeMax=\\\"7\\\"                    offset=\\\"488\\\"                 />\\n        <DataArray type=\\\"Float32\\\" Name=\\\"Normals\\\" NumberOfComponents=\\\"3\\\" format=\\\"appended\\\" RangeMin=\\\"0.99999998363\\\"        RangeMax=\\\"1.0000000286\\\"         offset=\\\"552\\\"                 />\\n      </CellData>\\n      <Points>\\n        <DataArray type=\\\"Float32\\\" Name=\\\"Points\\\" NumberOfComponents=\\\"3\\\" format=\\\"appended\\\" RangeMin=\\\"0\\\"                    RangeMax=\\\"236.22023622\\\"         offset=\\\"812\\\"                 />\\n      </Points>\\n      <Verts>\\n        <DataArray type=\\\"Int64\\\" Name=\\\"connectivity\\\" format=\\\"appended\\\" RangeMin=\\\"\\\"                     RangeMax=\\\"\\\"                     offset=\\\"1312\\\"                />\\n        <DataArray type=\\\"Int64\\\" Name=\\\"offsets\\\" format=\\\"appended\\\" RangeMin=\\\"\\\"                     RangeMax=\\\"\\\"                     offset=\\\"1384\\\"                />\\n      </Verts>\\n      <Lines>\\n        <DataArray type=\\\"Int64\\\" Name=\\\"connectivity\\\" format=\\\"appended\\\" RangeMin=\\\"\\\"                     RangeMax=\\\"\\\"                     offset=\\\"1456\\\"                />\\n        <DataArray type=\\\"Int64\\\" Name=\\\"offsets\\\" format=\\\"appended\\\" RangeMin=\\\"\\\"                     RangeMax=\\\"\\\"                     offset=\\\"1884\\\"                />\\n      </Lines>\\n      <Strips>\\n        <DataArray type=\\\"Int64\\\" Name=\\\"connectivity\\\" format=\\\"appended\\\" RangeMin=\\\"\\\"                     RangeMax=\\\"\\\"                     offset=\\\"2200\\\"                />\\n        <DataArray type=\\\"Int64\\\" Name=\\\"offsets\\\" format=\\\"appended\\\" RangeMin=\\\"\\\"                     RangeMax=\\\"\\\"                     offset=\\\"2216\\\"                />\\n      </Strips>\\n      <Polys>\\n        <DataArray type=\\\"Int64\\\" Name=\\\"connectivity\\\" format=\\\"appended\\\" RangeMin=\\\"\\\"                     RangeMax=\\\"\\\"                     offset=\\\"2232\\\"                />\\n        <DataArray type=\\\"Int64\\\" Name=\\\"offsets\\\" format=\\\"appended\\\" RangeMin=\\\"\\\"                     RangeMax=\\\"\\\"                     offset=\\\"2592\\\"                />\\n      </Polys>\\n    </Piece>\\n  </PolyData>\\n  <AppendedData encoding=\\\"base64\\\">\\n   _AQAAAACAAABACwAA6AAAAA==eJxjYBgFo2AUjIJRMApGwdAHDfbEstnPiNhfCwjYTyy7PGijnbRGAQZ76v4Ddiu1csFs+cbrdl/MM8BsgYNv7WbvTAKzOXYy2r/eFANmp7Zz2V93DwezuYDmX4GaHxKqYD9tkjuYPeGCpv2tifZgdm6moX1OnwWY7a5qZR+zTx/M1i90sp/fogZmz8x2s79xUBGD/Zlvp13Gxjwwe82P83bv32aC2UGpz+xOzU0Bs/Pc/9jpHInD67Y0MVl7HWUvMDtrk5r9O08niF4i3EZqOAPjZz9SXBFgk6J2ULKJTq+DkQ0ASFWhVA==AQAAAACAAACoBQAAYAAAAA==eJzd0jkOQGAURWGFmIkxxhiD2P8GFU7/Gr+XuM23gHNd65mHAYaYYY4NtjjhjA76GGGMKRZYYo2dYXvDjrjgijseaAsmgtXPHAQ3wVPZS1npP9p93/6Hdv+v+976LxO2AQAAAACAAACoBQAAHAAAAA==eJxjYoAAJirRrKP0KD1K051mH6WHNQ0A4K8D5A==AQAAAACAAAB8CAAAsAAAAA==eJxjYGiwZ4CDUfYoe5Q9yh5lD042RACbPPsZEftrAQH70dllQRvtpDQKMNiXk07YaU/JxmCv/XXPblJRGgY7l+erXfqxBAx2gSurPe/kKDC7bQu/vfOdYLziemcl7YWX+WCwwzqV7a9/ccFgazzWsdc8awNms101tf9gbIJXvCvSzj5WTxvMnpHtZn/9oCJecRzhBgrj/UhhvB+VxspuGERsWPpoGARsnO4BAOl569g=AQAAAACAAABACwAAYwEAAA==eJxjYIABDycGhhhnBBsEepwQ4jA2CNQAaROoOIwNAg8cGBgWOEDEYWxkADMfGZBiLy41yOYQ405capDNJMZfCDUcumlO6R+1wewJRwKc2q8pgdkVl62dbm2RALPD0tSdyifxgtklncJOAmWMYPYRDwan22dfOILYm+NvO165eQbMPjp5u+MthfVgtrvzVMdzW/rB7C2smY5qgbFgduIZLUcRBQlHTHci/IVwW4wzwm0xzgi3xTgj3BbjjHBbjDPCbTHOCLfFOCPcFuOMcFuMM8JtMc4It5GSHmAA2S/I6tHNQU4byGYipw1kQMv0Rmp+ITUdkprvRtMnddMnofINXQ2yOdjSLXo6xGUvPjX40jkIYEufIIAtXQ22dIIOSM372PIjatobvOkQV/ohtXzDVUYhs4kpc5DZgzncUNPJ4EjP6OkTPU5R3Yw7HvEB/Hl8cIQDvjIWfz4dXGkMERcAppM4LQ==AQAAAACAAABQAAAAIgAAAA==eJwtxbcBACAIADAsiP7/sAPJkog2PL28nT4uXz9/BXgALg==AQAAAACAAABQAAAAIgAAAA==eJwtxbcBACAIADA76v8HM5As6a0MTy9vH4evn78TBzAAOA==AQAAAACAAADwBgAALwEAAA==eJxdxUcjEAAAQGFnM7KigaQoo1KUqES0NGyVWRmpRAmJ7IwUoWSL/+nQO73v8gUG/BfEwRzCoRzGhzicI/gwR3IUR3MMx/IRjuN4fVQf08f1CZ2gE3WSPqmT9Smdwqf5jE7VafqsPqfTdYbO1Fn6vL6gL3I2X+LLnMO5fIWvch5f43wu4Ot8g29yId/iIi7m21zCpXyH7/I9vs8PuIwf8iN+zE+4XFfoSl2lq3WNrtV1+ql+pp/rem7gRt2km3WLfqFf6le6Vbfpdt2hX3Mnv+G3/I67+D13cw9/4I/cy5+4j/t5gD/zIH/hIR7mrzyiR/WYHtcTelJP6W96Ws/oWT3H33mef/BPXuBF/sVLvMwr+rf+o1f1X72m1/WG3tRbelvv8C7/4z3e5wMu+U0sAQAAAACAAAB4AwAA2gAAAA==eJwtxdFGAwAAAMAkk2SSJJlJJkmSJEmSySRJMpMkSZIkSZIkmUySTDJJkiRJkiRJkiRJkiRJ+pY9dPdyuTn/8hxwvgtc6KCLXOwSl7rM5Q457ApXOuIqV7vGta5zvRvc6CY3u8WtbnO7o+5wzJ3ucrd73Os+x51wvwc86CEPe8SjHvO4JzzpKU97xrOe87wXvOglLzvpFae86jWve8Npb3rLGW97x7ve874PfOgjH/vEpz7zuS986Stf+8a3vvO9H/zoJz/7xa9+87s//Okvf/vHv/5zFjBPMJE=AAAAAACAAAAAAAAAAAAAAACAAAAAAAAAAQAAAACAAACgBQAA+gAAAA==eJxdkEdaAgEYxbz/QbBgR+yAUsTesCsiil3kCi582WQ2+V7yzyymMPb/jIcT4WRYkJ8Jp8KiPHs6rISz4Zw8ez6sai/IV9RruluUr6pv6a4kX1Pf1t2SPLssz/d4r67OfUN7Wb6u3tTdinxDvaW7VXn2mjzf470dde7b2uvy7A15vsd7m+rcH4R74a78vvpJeBQeyh+rd8Kz8Dzshd3wMTwNL8JLefaVPPtann0jz76VZ9/Js+/l2Q/y7K48uyfP/+nIs/kfL+Fz2A9H4W84DJ/C13Ag/6aOf1fHf6jjP9XxX+r4b3X8jzp+qI4fqeP5T335gfofneKO4Q==AQAAAACAAADgAQAAgAAAAA==eJwtxcEGQgEAALCIiIiIiIiIiIiIiIiIiIh4RERERERERERERERERET0gR3aLguH/iKOOua4E0465bQzzjrnvAsuuuSyK6665robbrrltjvuuue+Bw489MhjTzz1zHMvvPTKa2+89c57H3z0yWdffPXNdz/89Mtvf/z1D9xDFXM=\\n  </AppendedData>\\n</VTKFile>\\n\", \"color\": [1, 0.8, 0, 1], \"position\": [0, 0, 0], \"orientation\": [0, 0, 0]}];\n    render(data, parent_element, 0.5);\n});\n",
      "text/plain": [
       "Part at 0x14fdefbac10, label(), #children(0)"
      ]
     },
     "execution_count": 9,
     "metadata": {},
     "output_type": "execute_result"
    }
   ],
   "source": [
    "from build123d import *\n",
    "\n",
    "LENGTH = 220\n",
    "WIDTH = 70\n",
    "HEIGHT = 50\n",
    "\n",
    "with BuildPart() as footrest_builder:\n",
    "    with BuildSketch(Plane.YZ) as side_sketch:\n",
    "        with BuildLine() as side_lines:\n",
    "            l1 = Line((0,50),(70,50))\n",
    "            l2 = Line(l1@0, (0,0))\n",
    "            l3 = PolarLine(l1@1, length=7, direction=(-1.0,-50./70), length_mode=LengthMode.DIAGONAL)\n",
    "            l4 = PolarLine(l2@1, length=7, direction=(1.0,50./70), length_mode=LengthMode.DIAGONAL)\n",
    "            #l5 = SagittaArc(l3@1, l4@1, sagitta=-5.531)\n",
    "            l5 = RadiusArc(l3@1, l4@1,radius=-120.)\n",
    "        face = make_face()\n",
    "    extrude(amount=LENGTH)\n",
    "footrest = footrest_builder.part\n",
    "footrest"
   ]
  },
  {
   "cell_type": "code",
   "execution_count": 10,
   "id": "96e6ad3a",
   "metadata": {},
   "outputs": [
    {
     "name": "stdout",
     "output_type": "stream",
     "text": [
      "333920.4981309725\n",
      "1517.8204460498744\n",
      "center: x: 101.81964430363927 y: -68.54750202509499\n"
     ]
    }
   ],
   "source": [
    "print(footrest.volume)\n",
    "#export_stl(footrest, \"footrest.stl\")\n",
    "export_step(footrest, \"footrest.step\")\n",
    "print(face.area)\n",
    "print(f\"center: x: {l5.arc_center.X} y: {l5.arc_center.Y}\")"
   ]
  }
 ],
 "metadata": {
  "jupytext": {
   "cell_metadata_filter": "-all",
   "main_language": "python",
   "notebook_metadata_filter": "-all"
  },
  "kernelspec": {
   "display_name": ".venv",
   "language": "python",
   "name": "python3"
  },
  "language_info": {
   "codemirror_mode": {
    "name": "ipython",
    "version": 3
   },
   "file_extension": ".py",
   "mimetype": "text/x-python",
   "name": "python",
   "nbconvert_exporter": "python",
   "pygments_lexer": "ipython3",
   "version": "3.11.9"
  }
 },
 "nbformat": 4,
 "nbformat_minor": 5
}
