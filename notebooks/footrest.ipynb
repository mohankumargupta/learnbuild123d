{
 "cells": [
  {
   "cell_type": "code",
   "execution_count": 93,
   "id": "9c1df213",
   "metadata": {},
   "outputs": [
    {
     "data": {
      "application/javascript": "\n\nfunction render(data, parent_element, ratio){\n\n    // Initial setup\n    const renderWindow = vtk.Rendering.Core.vtkRenderWindow.newInstance();\n    const renderer = vtk.Rendering.Core.vtkRenderer.newInstance({ background: [1, 1, 1 ] });\n    renderWindow.addRenderer(renderer);\n\n    // iterate over all children children\n    for (var el of data){\n        var trans = el.position;\n        var rot = el.orientation;\n        var rgba = el.color;\n        var shape = el.shape;\n\n        // load the inline data\n        var reader = vtk.IO.XML.vtkXMLPolyDataReader.newInstance();\n        const textEncoder = new TextEncoder();\n        reader.parseAsArrayBuffer(textEncoder.encode(shape));\n\n        // setup actor,mapper and add\n        const mapper = vtk.Rendering.Core.vtkMapper.newInstance();\n        mapper.setInputConnection(reader.getOutputPort());\n        mapper.setResolveCoincidentTopologyToPolygonOffset();\n        mapper.setResolveCoincidentTopologyPolygonOffsetParameters(0.5,100);\n\n        const actor = vtk.Rendering.Core.vtkActor.newInstance();\n        actor.setMapper(mapper);\n\n        // set color and position\n        actor.getProperty().setColor(rgba.slice(0,3));\n        actor.getProperty().setOpacity(rgba[3]);\n\n        actor.rotateZ(rot[2]*180/Math.PI);\n        actor.rotateY(rot[1]*180/Math.PI);\n        actor.rotateX(rot[0]*180/Math.PI);\n\n        actor.setPosition(trans);\n\n        renderer.addActor(actor);\n\n    };\n\n    renderer.resetCamera();\n\n    const openglRenderWindow = vtk.Rendering.OpenGL.vtkRenderWindow.newInstance();\n    renderWindow.addView(openglRenderWindow);\n\n    // Add output to the \"parent element\"\n    var container;\n    var dims;\n\n    if(typeof(parent_element.appendChild) !== \"undefined\"){\n        container = document.createElement(\"div\");\n        parent_element.appendChild(container);\n        dims = parent_element.getBoundingClientRect();\n    }else{\n        container = parent_element.append(\"<div/>\").children(\"div:last-child\").get(0);\n        dims = parent_element.get(0).getBoundingClientRect();\n    };\n\n    openglRenderWindow.setContainer(container);\n\n    // handle size\n    if (ratio){\n        openglRenderWindow.setSize(dims.width, dims.width*ratio);\n    }else{\n        openglRenderWindow.setSize(dims.width, dims.height);\n    };\n\n    // Interaction setup\n    const interact_style = vtk.Interaction.Style.vtkInteractorStyleManipulator.newInstance();\n\n    const manips = {\n        rot: vtk.Interaction.Manipulators.vtkMouseCameraTrackballRotateManipulator.newInstance(),\n        pan: vtk.Interaction.Manipulators.vtkMouseCameraTrackballPanManipulator.newInstance(),\n        zoom1: vtk.Interaction.Manipulators.vtkMouseCameraTrackballZoomManipulator.newInstance(),\n        zoom2: vtk.Interaction.Manipulators.vtkMouseCameraTrackballZoomManipulator.newInstance(),\n        roll: vtk.Interaction.Manipulators.vtkMouseCameraTrackballRollManipulator.newInstance(),\n    };\n\n    manips.zoom1.setControl(true);\n    manips.zoom2.setScrollEnabled(true);\n    manips.roll.setShift(true);\n    manips.pan.setButton(2);\n\n    for (var k in manips){\n        interact_style.addMouseManipulator(manips[k]);\n    };\n\n    const interactor = vtk.Rendering.Core.vtkRenderWindowInteractor.newInstance();\n    interactor.setView(openglRenderWindow);\n    interactor.initialize();\n    interactor.bindEvents(container);\n    interactor.setInteractorStyle(interact_style);\n\n    // Orientation marker\n\n    const axes = vtk.Rendering.Core.vtkAnnotatedCubeActor.newInstance();\n    axes.setXPlusFaceProperty({text: '+X'});\n    axes.setXMinusFaceProperty({text: '-X'});\n    axes.setYPlusFaceProperty({text: '+Y'});\n    axes.setYMinusFaceProperty({text: '-Y'});\n    axes.setZPlusFaceProperty({text: '+Z'});\n    axes.setZMinusFaceProperty({text: '-Z'});\n\n    const orientationWidget = vtk.Interaction.Widgets.vtkOrientationMarkerWidget.newInstance({\n        actor: axes,\n        interactor: interactor });\n    orientationWidget.setEnabled(true);\n    orientationWidget.setViewportCorner(vtk.Interaction.Widgets.vtkOrientationMarkerWidget.Corners.BOTTOM_LEFT);\n    orientationWidget.setViewportSize(0.2);\n\n};\n\n\nnew Promise(\n  function(resolve, reject)\n  {\n    if (typeof(require) !== \"undefined\" ){\n        require.config({\n         \"paths\": {\"vtk\": \"https://unpkg.com/vtk\"},\n        });\n        require([\"vtk\"], resolve, reject);\n    } else if ( typeof(vtk) === \"undefined\" ){\n        var script = document.createElement(\"script\");\n    \tscript.onload = resolve;\n    \tscript.onerror = reject;\n    \tscript.src = \"https://unpkg.com/vtk.js\";\n    \tdocument.head.appendChild(script);\n    } else { resolve() };\n }\n).then(() => {\n    var parent_element = element;\n    var data = [{\"shape\": \"<?xml version=\\\"1.0\\\"?>\\n<VTKFile type=\\\"PolyData\\\" version=\\\"0.1\\\" byte_order=\\\"LittleEndian\\\" header_type=\\\"UInt32\\\" compressor=\\\"vtkZLibDataCompressor\\\">\\n  <PolyData>\\n    <Piece NumberOfPoints=\\\"250\\\"                  NumberOfVerts=\\\"10\\\"                   NumberOfLines=\\\"117\\\"                  NumberOfStrips=\\\"0\\\"                    NumberOfPolys=\\\"64\\\"                  >\\n      <PointData Normals=\\\"Normals\\\">\\n        <DataArray type=\\\"Float32\\\" Name=\\\"Normals\\\" NumberOfComponents=\\\"3\\\" format=\\\"appended\\\" RangeMin=\\\"0\\\"                    RangeMax=\\\"1.0000000727\\\"         offset=\\\"0\\\"                   />\\n      </PointData>\\n      <CellData Normals=\\\"Normals\\\">\\n        <DataArray type=\\\"Int64\\\" IdType=\\\"1\\\" Name=\\\"SUBSHAPE_IDS\\\" format=\\\"appended\\\" RangeMin=\\\"4\\\"                    RangeMax=\\\"41\\\"                   offset=\\\"368\\\"                 />\\n        <DataArray type=\\\"Int64\\\" IdType=\\\"1\\\" Name=\\\"MESH_TYPES\\\" format=\\\"appended\\\" RangeMin=\\\"2\\\"                    RangeMax=\\\"7\\\"                    offset=\\\"524\\\"                 />\\n        <DataArray type=\\\"Float32\\\" Name=\\\"Normals\\\" NumberOfComponents=\\\"3\\\" format=\\\"appended\\\" RangeMin=\\\"0.9999999747\\\"         RangeMax=\\\"1.0000000383\\\"         offset=\\\"588\\\"                 />\\n      </CellData>\\n      <Points>\\n        <DataArray type=\\\"Float32\\\" Name=\\\"Points\\\" NumberOfComponents=\\\"3\\\" format=\\\"appended\\\" RangeMin=\\\"0\\\"                    RangeMax=\\\"236.22023622\\\"         offset=\\\"852\\\"                 />\\n      </Points>\\n      <Verts>\\n        <DataArray type=\\\"Int64\\\" Name=\\\"connectivity\\\" format=\\\"appended\\\" RangeMin=\\\"\\\"                     RangeMax=\\\"\\\"                     offset=\\\"1368\\\"                />\\n        <DataArray type=\\\"Int64\\\" Name=\\\"offsets\\\" format=\\\"appended\\\" RangeMin=\\\"\\\"                     RangeMax=\\\"\\\"                     offset=\\\"1440\\\"                />\\n      </Verts>\\n      <Lines>\\n        <DataArray type=\\\"Int64\\\" Name=\\\"connectivity\\\" format=\\\"appended\\\" RangeMin=\\\"\\\"                     RangeMax=\\\"\\\"                     offset=\\\"1512\\\"                />\\n        <DataArray type=\\\"Int64\\\" Name=\\\"offsets\\\" format=\\\"appended\\\" RangeMin=\\\"\\\"                     RangeMax=\\\"\\\"                     offset=\\\"1960\\\"                />\\n      </Lines>\\n      <Strips>\\n        <DataArray type=\\\"Int64\\\" Name=\\\"connectivity\\\" format=\\\"appended\\\" RangeMin=\\\"\\\"                     RangeMax=\\\"\\\"                     offset=\\\"2292\\\"                />\\n        <DataArray type=\\\"Int64\\\" Name=\\\"offsets\\\" format=\\\"appended\\\" RangeMin=\\\"\\\"                     RangeMax=\\\"\\\"                     offset=\\\"2308\\\"                />\\n      </Strips>\\n      <Polys>\\n        <DataArray type=\\\"Int64\\\" Name=\\\"connectivity\\\" format=\\\"appended\\\" RangeMin=\\\"\\\"                     RangeMax=\\\"\\\"                     offset=\\\"2324\\\"                />\\n        <DataArray type=\\\"Int64\\\" Name=\\\"offsets\\\" format=\\\"appended\\\" RangeMin=\\\"\\\"                     RangeMax=\\\"\\\"                     offset=\\\"2696\\\"                />\\n      </Polys>\\n    </Piece>\\n  </PolyData>\\n  <AppendedData encoding=\\\"base64\\\">\\n   _AQAAAACAAAC4CwAAAAEAAA==eJxjYBgFo2AUjIJRMApGwSiAgQZ7YtnsZ0TsrwUE7CeW7fhrsR1TSxEGe+O+zXY7t+SD2X3sp+2UmLPB7Hv89+ysVqeB2Q8zvtg9+5QAZtvcY7PfOz0SzA6IF7T32REEZvPdkbR/OssHzPbbomyveNEFzH62Qc/eUckazK5ebm5fFGEEZnPqOtjfV9AEs0++cbO/q6QIZl+94GX/zlQGgy3yaLXdSpVCMDs38LDd18U5eN35yYvZfv+RaDA75wWvfbNgKIY7/ZHcuXO2tv3Pb7Zg9vFtJvb/gkzB7HlJtvYp9joY7iQ1/IHxth8pDgmwSVE76NlEp+nBzgYAG5mx8g==AQAAAACAAAD4BQAAYgAAAA==eJzd0jcOgDAUBFEKRAYRjIgiChD3vyAF0/8K22Kbd4Ad33kXYIQxFlhiix3OuKCHISaYYo4VKmyw1+SgyQlX3PDAE13BTLD+uaPgLnhZ4m2JUl+m//66H1v6MPX/A+yZFN8=AQAAAACAAAD4BQAAHAAAAA==eJxjYoAAJirRrKP0KD1KD3qafZQe0TQACsUEHg==AQAAAACAAAD0CAAAswAAAA==eJxjYGiwZ4CDUfYoe5Q9yh5lD282RACbPPsZEftrAQH70dmOvxbbMbUUYbAr+nbb1ZrkYbCd11+yiwjKBLN9/V7azX6QjFf8eux/u8mPYjHY/Blc9v+iwzHYyG5LuyJnX37UA684a7WGfeM+Bwz2y52G9m8dLDDYed1W9q8D9THY8q+c7P9/UwWzr17wsn9nKoNXHEd4gsJ+P1LY70elsbIbBikbloYaBgGbKPcAAMSoAjk=AQAAAACAAAC4CwAAcAEAAA==eJxjYIABDycGhhhnBBsEepwQ4jA2CNQAaROoOIwNAg8cGBgWOEDEYWxkADMfGZBiLy41yOYQ405capDNJMZfCDXOM9OdAqV0wezo/mCnvWaqYPa8d/ZO8lEyYLbCYR2nN51CYPY6CSkn3TPsYPbRX+xO//1+OILYki/fOMq43QezZyuedpTqPQJm3968yjHbZAWYfXZzt2OTbxeYLZgZ49h/NRTMzpyg4ihpL+KI6WaEHxHujHFGuDPGGeHOGGeEO2OcEe6McUa4M8YZ4c4YZ4Q7Y5wR7oxxRrgzxhnhzhhnhDtJSScwgOwvZPXo5iCnGWQzkdMMMqBlOiQ1H5GaPknNj6Pplj7pllB5iK4G2Rxs6Rk9feKyF58afOkfBLClWxDAlt4Gc/pBB6SWD9jyLGqaHBrpE1e6IrU8xFWmIbOJKaOQ2UMlDFHTz+BL8+hpGD2uUd2PO37xAfxlwuALE3zlM/58PXjTISKOAGaIUR4=AQAAAACAAABQAAAAIgAAAA==eJwtxbcBACAIADAsiP7/sAPJkog2PL28nT4uXz9/BXgALg==AQAAAACAAABQAAAAIgAAAA==eJwtxbcBACAIADA76v8HM5As6a0MTy9vH4evn78TBzAAOA==AQAAAACAAABQBwAAPAEAAA==eJxdxUcjEAAAQGFno5KUSFL2CNGQSih7FKIoUrQ0rVBKGkgSiShSSsmfdPBO77t8gQFbgjiYQ3gbb+cdHMo7OYx3cTjv5j0cwXs5kqP0Ph2t9+sYfUDH6oP6kI7T8TpBJ3ISJ+sUnarTdLo+rDN0ps7SR3S2ztFH+Rgf5xOcyyc5j0/xaT7D+XyWC7iQi/gcn+diLuFSLuNyruBKruJqruELfJFruY7r+ZJu0I36sr6im3Szvqqv6Rbdqq/rNr7BN3W77tC39G19R9/V93Snvq8f6If6ET/mJ9zF3dzDvdzHT7mfB3iQn/FzHuIX/JKH+RWP8Gt+w2/1Oz2qx/S4fq8n9Ac9qT/qKf1JT/MMf+ZZ/sJzPM9feYEX+Zv+rpf0sv6hV/RP/Uuv6t/6j17Tf/kfr/N/3uBNRz1UIg==AQAAAACAAACoAwAA5QAAAA==eJwtxdFGAwAAAMAkmSRJkiRJkpkkSZIkSZIkSTJJkiRJkiRJkiRJkiRJMpnJJEmSJEmSJEmSJElf0UN3L5eY8C/JyQ44xalOc7oznOksZzvHuc5zvgtc6CIXO+iQS1zqMpe7wpWucrVrXOs617vBjW5ys1vc6ja3u8Od7nLY3e5xr/vc7wEPesjDHvGoxzzuCU96ytOe8aznPO8FL3rJy17xqte87g1vesvb3vGu9xzxvqOO+cBxH/rIxz7xqc987gtf+srXvvGt73zvBz/6yc9+8avf/O4Pf/rL3/7xr/8A4TY17w==AAAAAACAAAAAAAAAAAAAAACAAAAAAAAAAQAAAACAAAAABgAABQEAAA==eJxdkMdWAgEUxfz/b8Hee0NBir1jL4io2EV2LrzZZDY5N3kziyn0/T/94UA4GBbkR8OhcFiePRIWw7FwXJ49Ea5pT8oX1dd1NyXPnpbne7xXUue+rD0jX1Lf0N2sfFm9ors5efa8PN/jvao69zXtBfmqel13i/I19U3dLcnX1bd0tyzPXpHne7y3qs79XrgTbsvvqh+FB+G+/KF6IzwJT8NW2AwfwuPwPLyQZ1/Ks6/k2dfy7Bt59q08+06efS/PbsqzW/L8n4Y8+0yezX96Dp/CdtgLf8Nu+Bi+hh35N3X8uzr+Qx3/qY7/Usd/q+N/1PFddXxPHc9/asu/qOM76n/v7Z5bAQAAAACAAAAAAgAAiQAAAA==eJwtxdFmAgAAAMCIGBERIyIiImJERERERERERMQYIyIiIiIiIiIiIiIiIqJP66G7lwsGPkL+ctgRRx3zt+NOOOmU084465x/nHfBRZdcdsVV11x3w0233HbHXffc96///O+Bhx557ImnnnnuhZdeee2Nt95574OPPvnsi6+++e6Hn375DcTwGGE=\\n  </AppendedData>\\n</VTKFile>\\n\", \"color\": [1, 0.8, 0, 1], \"position\": [0, 0, 0], \"orientation\": [0, 0, 0]}];\n    render(data, parent_element, 0.5);\n});\n",
      "text/plain": [
       "Part at 0x278fe905850, label(), #children(0)"
      ]
     },
     "execution_count": 93,
     "metadata": {},
     "output_type": "execute_result"
    }
   ],
   "source": [
    "from build123d import *\n",
    "\n",
    "LENGTH = 220\n",
    "WIDTH = 70\n",
    "HEIGHT = 50\n",
    "\n",
    "with BuildSketch() as sketch:\n",
    "    with BuildLine() as line:\n",
    "        l1 = Line((0,50),(70,50))\n",
    "        l2 = Line(l1@0, (0,0))\n",
    "        l3 = PolarLine(l1@1, length=7, direction=(-1.0,-50./70), length_mode=LengthMode.DIAGONAL)\n",
    "        l4 = PolarLine(l2@1, length=7, direction=(1.0,50./70), length_mode=LengthMode.DIAGONAL)\n",
    "        l5 = SagittaArc(l3@1, l4@1, sagitta=-5.531)\n",
    "    face = make_face()\n",
    "\n",
    "with BuildPart() as footrest_builder:\n",
    "    with BuildSketch(Plane.YZ) as side_sketch:\n",
    "        with BuildLine() as side_lines:\n",
    "            l1 = Line((0,50),(70,50))\n",
    "            l2 = Line(l1@0, (0,0))\n",
    "            l3 = PolarLine(l1@1, length=7, direction=(-1.0,-50./70), length_mode=LengthMode.DIAGONAL)\n",
    "            l4 = PolarLine(l2@1, length=7, direction=(1.0,50./70), length_mode=LengthMode.DIAGONAL)\n",
    "            l5 = SagittaArc(l3@1, l4@1, sagitta=-5.531)\n",
    "        face = make_face()\n",
    "    extrude(amount=LENGTH)\n",
    "footrest = footrest_builder.part\n",
    "footrest"
   ]
  },
  {
   "cell_type": "code",
   "execution_count": 94,
   "id": "96e6ad3a",
   "metadata": {},
   "outputs": [
    {
     "name": "stdout",
     "output_type": "stream",
     "text": [
      "328886.00094769365\n"
     ]
    },
    {
     "data": {
      "text/plain": [
       "True"
      ]
     },
     "execution_count": 94,
     "metadata": {},
     "output_type": "execute_result"
    }
   ],
   "source": [
    "print(footrest.volume)\n",
    "export_stl(footrest, \"footrest.stl\")\n",
    "#print(face.area)"
   ]
  }
 ],
 "metadata": {
  "jupytext": {
   "cell_metadata_filter": "-all",
   "main_language": "python",
   "notebook_metadata_filter": "-all"
  },
  "kernelspec": {
   "display_name": ".venv",
   "language": "python",
   "name": "python3"
  },
  "language_info": {
   "codemirror_mode": {
    "name": "ipython",
    "version": 3
   },
   "file_extension": ".py",
   "mimetype": "text/x-python",
   "name": "python",
   "nbconvert_exporter": "python",
   "pygments_lexer": "ipython3",
   "version": "3.11.9"
  }
 },
 "nbformat": 4,
 "nbformat_minor": 5
}
