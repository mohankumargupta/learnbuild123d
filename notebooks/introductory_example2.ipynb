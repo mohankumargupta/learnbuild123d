{
 "cells": [
  {
   "cell_type": "markdown",
   "id": "fee89f80",
   "metadata": {
    "cell_marker": "\"\"\"",
    "lines_to_next_cell": 0
   },
   "source": [
    "# 2. Plate with Hole\n",
    "\n",
    "   - Box and Cylinder are 3d objects\n",
    "   - The box and cylinder are \"centered\" by default along all three axes. "
   ]
  },
  {
   "cell_type": "code",
   "execution_count": null,
   "id": "0258790a",
   "metadata": {},
   "outputs": [],
   "source": [
    "from build123d import *\n",
    "\n",
    "length, width, thickness = 80.0, 60.0, 10.0\n",
    "center_hole_dia = 22.0\n",
    "\n",
    "\n",
    "with BuildPart() as ex2:\n",
    "    Box(length, width, thickness)\n",
    "    Cylinder(radius=center_hole_dia / 2, height=thickness, mode=Mode.SUBTRACT)\n",
    "\n",
    "ex2.part"
   ]
  }
 ],
 "metadata": {
  "jupytext": {
   "cell_metadata_filter": "-all"
  },
  "kernelspec": {
   "display_name": "Python 3 (ipykernel)",
   "language": "python",
   "name": "python3"
  },
  "language_info": {
   "name": "python",
   "version": "3.11.9"
  }
 },
 "nbformat": 4,
 "nbformat_minor": 5
}
