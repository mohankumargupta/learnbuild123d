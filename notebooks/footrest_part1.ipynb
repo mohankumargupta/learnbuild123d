{
 "cells": [
  {
   "cell_type": "code",
   "execution_count": null,
   "id": "33eebfb6",
   "metadata": {},
   "outputs": [],
   "source": [
    "from build123d import *\n",
    "from math import atan2\n",
    "\n",
    "LENGTH = 220\n",
    "WIDTH = 70\n",
    "HEIGHT = 50\n",
    "\n",
    "with BuildPart() as footrest_builder:\n",
    "    with BuildSketch(Plane.YZ) as side_sketch:\n",
    "        with BuildLine() as side_lines:\n",
    "            l1 = Line((0,50),(70,50))\n",
    "            l2 = Line(l1@0, (0,0))\n",
    "            l3 = PolarLine(l1@1, length=7, direction=Vector(-70,-50).normalized())\n",
    "            l4 = PolarLine(l2@1, length=7, direction=Vector(70,50).normalized())\n",
    "            l5 = RadiusArc(l3@1, l4@1,radius=-120.)\n",
    "        face = make_face()\n",
    "    extrude(amount=LENGTH)\n",
    "footrest = footrest_builder.part\n",
    "footrest"
   ]
  },
  {
   "cell_type": "code",
   "execution_count": null,
   "id": "724c7e5f",
   "metadata": {},
   "outputs": [],
   "source": [
    "print(footrest.volume)\n",
    "#export_stl(footrest, \"footrest.stl\")\n",
    "export_step(footrest, \"footrest.step\")\n",
    "print(face.area)\n",
    "print(f\"center: x: {l5.arc_center.X} y: {l5.arc_center.Y}\")\n",
    "l3vertices = l3.vertices()\n",
    "print(l3vertices)"
   ]
  },
  {
   "cell_type": "code",
   "execution_count": null,
   "id": "431078b6",
   "metadata": {},
   "outputs": [],
   "source": [
    "normalizedvector = Vector(-70,-50).normalized()\n",
    "print(normalizedvector)"
   ]
  }
 ],
 "metadata": {
  "jupytext": {
   "cell_metadata_filter": "-all",
   "main_language": "python",
   "notebook_metadata_filter": "-all"
  }
 },
 "nbformat": 4,
 "nbformat_minor": 5
}
