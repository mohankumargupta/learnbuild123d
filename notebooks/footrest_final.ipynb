{
 "cells": [
  {
   "cell_type": "code",
   "execution_count": null,
   "id": "03625b84",
   "metadata": {},
   "outputs": [],
   "source": [
    "from build123d import *\n",
    "from math import atan2\n",
    "\n",
    "LENGTH = 220\n",
    "WIDTH = 70\n",
    "HEIGHT = 50\n",
    "\n",
    "with BuildPart() as side_builder:\n",
    "    with BuildSketch(Plane.YZ) as side_sketch:\n",
    "        with BuildLine() as side_lines:\n",
    "            l1 = Line((0,50),(70,50))\n",
    "            l2 = Line(l1@0, (0,0))\n",
    "            l3 = PolarLine(l1@1, length=7, direction=Vector(-70,-50).normalized())\n",
    "            l4 = PolarLine(l2@1, length=7, direction=Vector(70,50).normalized())\n",
    "            l5 = RadiusArc(l3@1, l4@1,radius=-120.)\n",
    "        face = make_face()\n",
    "    extrude(amount=LENGTH)\n",
    "side_part = side_builder.part\n",
    "side_part"
   ]
  },
  {
   "cell_type": "code",
   "execution_count": null,
   "id": "ea281f91",
   "metadata": {},
   "outputs": [],
   "source": [
    "# print(footrest.volume)\n",
    "# #export_stl(footrest, \"footrest.stl\")\n",
    "# export_step(footrest, \"footrest.step\")\n",
    "# print(face.area)\n",
    "# print(f\"center: x: {l5.arc_center.X} y: {l5.arc_center.Y}\")\n",
    "# l3vertices = l3.vertices()\n",
    "# print(l3vertices)\n",
    "\n",
    "# # %%\n",
    "# normalizedvector = Vector(-70,-50).normalized()\n",
    "# print(normalizedvector)\n",
    "assert 1==1"
   ]
  },
  {
   "cell_type": "code",
   "execution_count": null,
   "id": "4b51e533",
   "metadata": {
    "lines_to_next_cell": 0
   },
   "outputs": [],
   "source": [
    "from build123d import *\n",
    "from math import atan2\n",
    "\n",
    "LENGTH = 220\n",
    "WIDTH = 70\n",
    "HEIGHT = 50\n",
    "\n",
    "with BuildPart() as front_builder:\n",
    "    with BuildSketch(Plane.XZ) as front_sketch:\n",
    "        # with BuildLine() as lines:\n",
    "        #     pts = [\n",
    "        #         (0,0),\n",
    "        #         (0,50),\n",
    "        #         (-220,50),\n",
    "        #         (-170,0)\n",
    "        #     ]\n",
    "        #     Polyline(pts, close=True)\n",
    "        #make_face()\n",
    "        Rectangle(220,50, align=(Align.MAX, Align.MIN))\n",
    "        with Locations((-170,0)):\n",
    "            Triangle(a=50, b=50, C=90, rotation=180, align=(Align.MIN, Align.MAX), mode=Mode.SUBTRACT)\n",
    "    extrude(amount=100)\n",
    "\n",
    "front_part = front_builder.part\n",
    "front_part"
   ]
  },
  {
   "cell_type": "code",
   "execution_count": null,
   "id": "4bb9bc80",
   "metadata": {},
   "outputs": [],
   "source": [
    "# print(f\"Area of face: {side_sketch.face().area}\")\n",
    "\n",
    "\n",
    "# with BuildSketch(Plane.XZ) as side_sketch2:\n",
    "#     with BuildLine() as lines2:\n",
    "#         pts = [\n",
    "#             (0,0),\n",
    "#             (0,50),\n",
    "#             (-220,50),\n",
    "#             (-170,0)\n",
    "#         ]\n",
    "#         Polyline(pts, close=True)\n",
    "#     face = make_face()\n",
    "\n",
    "# print(f\"Area of face: {side_sketch2.face().area}\")\n",
    "assert 1==1"
   ]
  },
  {
   "cell_type": "code",
   "execution_count": null,
   "id": "29a6cbaa",
   "metadata": {
    "lines_to_next_cell": 0
   },
   "outputs": [],
   "source": [
    "from build123d import *\n",
    "from math import atan2\n",
    "\n",
    "LENGTH = 220\n",
    "WIDTH = 70\n",
    "HEIGHT = 50\n",
    "\n",
    "with BuildPart() as bottom_builder:\n",
    "    with BuildSketch(Plane.XZ) as side_sketch:\n",
    "        Rectangle(220,70, align=(Align.MAX, Align.MIN))\n",
    "        with Locations((70-220,70)):\n",
    "            Triangle(a=70, b=70, C=90, rotation=-90, align=(Align.MIN, Align.MAX), mode=Mode.SUBTRACT)\n",
    "    extrude(amount=100)\n",
    "\n",
    "bottom_part = bottom_builder.part\n",
    "bottom_part"
   ]
  },
  {
   "cell_type": "code",
   "execution_count": null,
   "id": "ab4951c3",
   "metadata": {
    "lines_to_next_cell": 3
   },
   "outputs": [],
   "source": [
    "#print(f\"Area of face: {side_sketch.face().area}\")\n",
    "assert 1==1"
   ]
  }
 ],
 "metadata": {
  "jupytext": {
   "cell_metadata_filter": "-all",
   "main_language": "python",
   "notebook_metadata_filter": "-all"
  },
  "kernelspec": {
   "display_name": ".venv",
   "language": "python",
   "name": "python3"
  },
  "language_info": {
   "name": "python",
   "version": "3.11.9"
  }
 },
 "nbformat": 4,
 "nbformat_minor": 5
}
