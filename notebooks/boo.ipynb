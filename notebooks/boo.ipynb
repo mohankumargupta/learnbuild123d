{
 "cells": [
  {
   "cell_type": "code",
   "execution_count": 1,
   "id": "4eff793e-01d6-4373-a582-143088609ac2",
   "metadata": {},
   "outputs": [],
   "source": [
    "import build123d"
   ]
  },
  {
   "cell_type": "code",
   "execution_count": null,
   "id": "39faa7b8-c3bc-46c7-8b9c-f7f9523cd51f",
   "metadata": {},
   "outputs": [],
   "source": []
  }
 ],
 "metadata": {
  "kernelspec": {
   "display_name": "Python (myenv)",
   "language": "python",
   "name": "myenv"
  },
  "language_info": {
   "codemirror_mode": {
    "name": "ipython",
    "version": 3
   },
   "file_extension": ".py",
   "mimetype": "text/x-python",
   "name": "python",
   "nbconvert_exporter": "python",
   "pygments_lexer": "ipython3",
   "version": "3.11.11"
  }
 },
 "nbformat": 4,
 "nbformat_minor": 5
}
