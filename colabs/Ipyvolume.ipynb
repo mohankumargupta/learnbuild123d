{
  "nbformat": 4,
  "nbformat_minor": 0,
  "metadata": {
    "colab": {
      "provenance": []
    },
    "kernelspec": {
      "name": "python3",
      "display_name": "Python 3"
    },
    "language_info": {
      "name": "python"
    },
    "widgets": {
      "application/vnd.jupyter.widget-state+json": {
        "3c867daa03a741bb94b1277805fc7ce2": {
          "model_module": "jupyter-vue",
          "model_name": "HtmlModel",
          "model_module_version": "^1.11.2",
          "state": {
            "_dom_classes": [],
            "_events": [],
            "_jupyter_vue": "IPY_MODEL_bdf95fa5faeb4a81bbb9029ed34b8f76",
            "_model_module": "jupyter-vue",
            "_model_module_version": "^1.11.2",
            "_model_name": "HtmlModel",
            "_view_count": null,
            "_view_module": "jupyter-vue",
            "_view_module_version": "^1.11.2",
            "_view_name": "VueView",
            "attributes": {},
            "children": [],
            "class_": null,
            "layout": null,
            "slot": null,
            "style_": "display: none",
            "tag": "span",
            "v_model": "!!disabled!!",
            "v_on": null,
            "v_slots": []
          }
        },
        "e1052cc1bc014ef7b5462c92e833628e": {
          "model_module": "jupyter-vuetify",
          "model_name": "VuetifyTemplateModel",
          "model_module_version": "^1.10.0",
          "state": {
            "_component_instances": [],
            "_dom_classes": [],
            "_jupyter_vue": "IPY_MODEL_bdf95fa5faeb4a81bbb9029ed34b8f76",
            "_model_module": "jupyter-vuetify",
            "_model_module_version": "^1.10.0",
            "_model_name": "VuetifyTemplateModel",
            "_view_count": null,
            "_view_module": "jupyter-vuetify",
            "_view_module_version": "^1.10.0",
            "_view_name": "VuetifyView",
            "children": [],
            "components": null,
            "css": null,
            "data": null,
            "events": [],
            "figure": "IPY_MODEL_4cb8212454a442168b80f4730925a035",
            "layout": "IPY_MODEL_05b78eeb340c47dcb1a1658411970573",
            "legend": "IPY_MODEL_53e921f984854168b67f09b698dd981e",
            "legend_show": true,
            "methods": null,
            "models": {
              "figure": {
                "show": "render"
              }
            },
            "panels": [
              0,
              1,
              2
            ],
            "template": "IPY_MODEL_f1e7865da5aa4d5e9f14de5bcaf0b175"
          }
        },
        "05b78eeb340c47dcb1a1658411970573": {
          "model_module": "@jupyter-widgets/base",
          "model_name": "LayoutModel",
          "model_module_version": "1.2.0",
          "state": {
            "_model_module": "@jupyter-widgets/base",
            "_model_module_version": "1.2.0",
            "_model_name": "LayoutModel",
            "_view_count": null,
            "_view_module": "@jupyter-widgets/base",
            "_view_module_version": "1.2.0",
            "_view_name": "LayoutView",
            "align_content": null,
            "align_items": null,
            "align_self": null,
            "border": null,
            "bottom": null,
            "display": null,
            "flex": null,
            "flex_flow": null,
            "grid_area": null,
            "grid_auto_columns": null,
            "grid_auto_flow": null,
            "grid_auto_rows": null,
            "grid_column": null,
            "grid_gap": null,
            "grid_row": null,
            "grid_template_areas": null,
            "grid_template_columns": null,
            "grid_template_rows": null,
            "height": null,
            "justify_content": null,
            "justify_items": null,
            "left": null,
            "margin": null,
            "max_height": null,
            "max_width": null,
            "min_height": null,
            "min_width": null,
            "object_fit": null,
            "object_position": null,
            "order": null,
            "overflow": null,
            "overflow_x": null,
            "overflow_y": null,
            "padding": null,
            "right": null,
            "top": null,
            "visibility": null,
            "width": null
          }
        },
        "f1e7865da5aa4d5e9f14de5bcaf0b175": {
          "model_module": "jupyter-vue",
          "model_name": "TemplateModel",
          "model_module_version": "^1.11.2",
          "state": {
            "_model_module": "jupyter-vue",
            "_model_module_version": "^1.11.2",
            "_model_name": "TemplateModel",
            "_view_count": null,
            "_view_module": null,
            "_view_module_version": "",
            "_view_name": null,
            "template": "<template>\n    <div class=\"ipyvolume-container-root\">\n        <jupyter-widget ref=\"figure\" :widget=\"figure\"></jupyter-widget>\n        <div class=ipyvolume-container-controls>\n            <v-expansion-panels accordion multiple v-model=\"panels\" flat>\n                <v-expansion-panel>\n                    <v-expansion-panel-header>Legend</v-expansion-panel-header>\n                    <v-expansion-panel-content>\n                        <jupyter-widget ref=\"legend\" :widget=\"legend\"></jupyter-widget>\n                    </v-expansion-panel-content>\n                </v-expansion-panel>\n                <v-expansion-panel>\n                    <v-expansion-panel-header>Misc</v-expansion-panel-header>\n                    <v-expansion-panel-content>\n                        <jupyter-widget v-for=\"child in children\" :key=\"child\" :widget=\"child\"></jupyter-widget>\n                    </v-expansion-panel-content>\n                </v-expansion-panel>\n                <v-expansion-panel>\n                    <v-expansion-panel-header>Debug</v-expansion-panel-header>\n                    <v-expansion-panel-content>\n                        <p>Show render pass:</p>\n                        <v-btn-toggle v-model=\"models.figure.show\" tile group>\n                            <v-btn value=\"render\">Render</v-btn>\n                            <v-btn value=\"front\">Front</v-btn>\n                            <v-btn value=\"back\">Back</v-btn>\n                            <v-btn value=\"id\">ID</v-btn>\n                            <v-btn value=\"coordinate\">Coordinate</v-btn>\n                        </v-btn-toggle>\n                    </v-expansion-panel-content>\n                </v-expansion-panel>\n            </v-expansion-panels>\n        </div>\n    </div>\n</template>\n<style id=\"ipyvolume-container\">\n    .ipyvolume-container-root {\n        display: flex;\n    }\n    .ipyvolume-container-controls {\n        display: flex;\n        flex-direction: column;\n    }\n</style>\n\n<script>\n    module.export = {\n        created() {\n            console.log('created', this.$refs)\n        },\n        mounted() {\n            const figureComponent = this.$refs.figure;\n            (async () => {\n                const figure = await this.viewCtx.getModelById(this.figure.substr(10));\n                function bbproxy(model, attrs, widgetAttrs) {\n                    const proxy = {}\n\n                    attrs.forEach((attr) => {\n                        console.log('setting', attr)\n                        let valueCopy = model.get(attr);\n                        model.on('change:' + attr, (_widget, value) => {\n                            proxy[attr] = value\n                        })\n                        Object.defineProperty(proxy, attr, {\n                            enumerable: true,\n                            configurable: true,\n                            get: () => {\n                                return valueCopy;\n                            },\n                            set: (value) => {\n                                valueCopy = value;\n                                model.set(attr, value);\n                                model.save_changes();\n                            },\n                        });\n                    })\n                    if(widgetAttrs) {\n                        Object.keys(widgetAttrs).forEach((attr) => {\n                            console.log('setting list', attr)\n                            let listValue = model.get(attr);\n                            let listValueProxy = [];\n                            if(listValue) {\n                                listValueProxy = listValue.map((k) => bbproxy(k, widgetAttrs[attr]));\n                            }\n                            proxy[attr] = listValueProxy;\n                            model.on('change:' + attr, (_widget, value) => {\n                                console.log('changed list', attr, value)\n                                if(value) {\n                                    proxy[attr] = value.map((k) => bbproxy(k, widgetAttrs[attr]))\n                                } else {\n                                    proxy[attr] = null;\n                                }\n                            });\n                            Object.defineProperty(proxy, attr, {\n                                enumerable: true,\n                                configurable: true,\n                                get: () => {\n                                    return listValueProxy;\n                                },\n                                set: (value) => {\n                                    listValueProxy = value;\n                                    console.log('ignore propagating set')\n                                },\n                            });\n                        })\n                    }\n\n                    return proxy;\n                }\n                this.$set(this.models, 'figure', bbproxy(figure, [\"show\"]));\n            })();\n        },\n        methods: {\n        }\n    }\n\n</script>\n"
          }
        },
        "4cb8212454a442168b80f4730925a035": {
          "model_module": "ipyvolume",
          "model_name": "FigureModel",
          "model_module_version": "~0.6.3",
          "state": {
            "_dom_classes": [],
            "_model_module": "ipyvolume",
            "_model_module_version": "~0.6.3",
            "_model_name": "FigureModel",
            "_shaders": {},
            "_view_count": null,
            "_view_module": "ipyvolume",
            "_view_module_version": "~0.6.3",
            "_view_name": "FigureView",
            "ambient_coefficient": 0.5,
            "animation": 1000,
            "animation_exponent": 1,
            "box_center": [
              0.5,
              0.5,
              0.5
            ],
            "box_size": [
              1,
              1,
              1
            ],
            "camera": "IPY_MODEL_9f4af4577159475a8580b69031df8e13",
            "camera_center": [
              0,
              0,
              0
            ],
            "camera_control": "trackball",
            "camera_fov": 45,
            "capture_fps": null,
            "controls": null,
            "cube_resolution": 512,
            "diffuse_coefficient": 0.8,
            "displayscale": 1,
            "eye_separation": 6.4,
            "height": 600,
            "layout": "IPY_MODEL_64f9104e74fe4e869e77643c9084e393",
            "lights": [],
            "matrix_projection": [
              1.8106601717798212,
              0,
              0,
              0,
              0,
              2.414213562373095,
              0,
              0,
              0,
              0,
              -1.00010000500025,
              -1,
              0,
              0,
              -0.200010000500025,
              0
            ],
            "matrix_world": [
              -0.012855277210833217,
              -0.020412466732047413,
              -0.006563006151580996,
              0,
              0.016429799500506166,
              -0.0044608929118414185,
              -0.018307433539473807,
              0,
              0.013776920418068751,
              -0.013727040334396224,
              0.01570875002831415,
              0,
              -0.275538408361375,
              0.27454080668792435,
              -2.314175000566282,
              1.0000000000000002
            ],
            "meshes": [
              "IPY_MODEL_22403dca13c04d2ca4f634f4f3df7d86"
            ],
            "mouse_mode": "normal",
            "orientation_control": false,
            "panorama_mode": "no",
            "pixel_ratio": null,
            "popup_debouce": 100,
            "render_continuous": false,
            "scales": {
              "x": "IPY_MODEL_7d589ed902cd47fe89fa3b71427b5bed",
              "y": "IPY_MODEL_794bf76447e64c989dba6c8603ef7222",
              "z": "IPY_MODEL_3485a1ceec5c40fe825344df440700c5"
            },
            "scatters": [],
            "scene": "IPY_MODEL_74d47aa66d25499f979b29d5cb89fe2b",
            "selection_mode": "replace",
            "selector": "lasso",
            "show": "render",
            "slice_x": 0,
            "slice_y": 0,
            "slice_z": 0,
            "specular_coefficient": 0.5,
            "specular_exponent": 5,
            "stereo": false,
            "style": {
              "axes": {
                "visible": true,
                "label": {
                  "color": "black"
                },
                "ticklabel": {
                  "color": "black"
                },
                "color": "black"
              },
              "box": {
                "visible": true
              },
              "background-color": "white"
            },
            "volumes": [],
            "width": 800,
            "xlabel": "x",
            "ylabel": "y",
            "zlabel": "z"
          }
        },
        "53e921f984854168b67f09b698dd981e": {
          "model_module": "jupyter-vuetify",
          "model_name": "VuetifyTemplateModel",
          "model_module_version": "^1.10.0",
          "state": {
            "_component_instances": [],
            "_dom_classes": [],
            "_jupyter_vue": "IPY_MODEL_bdf95fa5faeb4a81bbb9029ed34b8f76",
            "_model_module": "jupyter-vuetify",
            "_model_module_version": "^1.10.0",
            "_model_name": "VuetifyTemplateModel",
            "_view_count": null,
            "_view_module": "jupyter-vuetify",
            "_view_module_version": "^1.10.0",
            "_view_name": "VuetifyView",
            "components": null,
            "css": null,
            "data": null,
            "events": [],
            "figure": "IPY_MODEL_4cb8212454a442168b80f4730925a035",
            "layout": "IPY_MODEL_a90421fb1c2a481b837d23d89da6c4fe",
            "methods": null,
            "models": {
              "figure": {
                "stereo": false,
                "scatters": [],
                "meshes": [
                  {
                    "visible": true,
                    "description": "Mesh 0",
                    "icon": "mdi-triforce",
                    "description_color": "orange",
                    "hovered": false
                  }
                ],
                "volumes": []
              }
            },
            "template": "IPY_MODEL_ddff5598b57b458e9d7b4d80b0df4411"
          }
        },
        "a90421fb1c2a481b837d23d89da6c4fe": {
          "model_module": "@jupyter-widgets/base",
          "model_name": "LayoutModel",
          "model_module_version": "1.2.0",
          "state": {
            "_model_module": "@jupyter-widgets/base",
            "_model_module_version": "1.2.0",
            "_model_name": "LayoutModel",
            "_view_count": null,
            "_view_module": "@jupyter-widgets/base",
            "_view_module_version": "1.2.0",
            "_view_name": "LayoutView",
            "align_content": null,
            "align_items": null,
            "align_self": null,
            "border": null,
            "bottom": null,
            "display": null,
            "flex": null,
            "flex_flow": null,
            "grid_area": null,
            "grid_auto_columns": null,
            "grid_auto_flow": null,
            "grid_auto_rows": null,
            "grid_column": null,
            "grid_gap": null,
            "grid_row": null,
            "grid_template_areas": null,
            "grid_template_columns": null,
            "grid_template_rows": null,
            "height": null,
            "justify_content": null,
            "justify_items": null,
            "left": null,
            "margin": null,
            "max_height": null,
            "max_width": null,
            "min_height": null,
            "min_width": null,
            "object_fit": null,
            "object_position": null,
            "order": null,
            "overflow": null,
            "overflow_x": null,
            "overflow_y": null,
            "padding": null,
            "right": null,
            "top": null,
            "visibility": null,
            "width": null
          }
        },
        "ddff5598b57b458e9d7b4d80b0df4411": {
          "model_module": "jupyter-vue",
          "model_name": "TemplateModel",
          "model_module_version": "^1.11.2",
          "state": {
            "_model_module": "jupyter-vue",
            "_model_module_version": "^1.11.2",
            "_model_name": "TemplateModel",
            "_view_count": null,
            "_view_module": null,
            "_view_module_version": "",
            "_view_name": null,
            "template": "<template>\n    <div style=\"padding: 5px;\">\n        <div v-for=\"(mark, index) in marks\" :key=\"index\">\n            <v-checkbox hide-details dense style=\"margin-top: 0px; padding-top 0px\"\n                v-model=\"mark.visible\"\n                off-icon=\"mdi-eye-off\"\n                :on-icon=\"mark.icon\"\n                :color=\"mark.description_color\"\n                :background-color=\"mark.hovered ? '#ccc' : 'unset'\"\n                :label=\"mark.description\"></v-checkbox>\n        </div>\n    </div>\n</template>\n<style id=\"fruit-selector-style-file\">\n    .fruit-selector-file td {\n        border: 1px solid #999;\n        padding: 5px 10px ;\n    }\n    .fruit-selector-file {\n        border-collapse: collapse;\n    }\n    .fruit-selector-file td.selected {\n        width: 50px;\n    }\n    .ipv-main-container {\n        background-color: white;\n    }\n    .ipv-main-container:fullscreen {\n        display: flex;\n        justify-content: center;\n        align-items: center;\n        align-items: center;\n    }\n</style>\n<script>\n    module.export = {\n        mounted() {\n            (async () => {\n                const figureWidgetModel = await this.viewCtx.getModelById(this.figure.substr(10));\n                console.log('figure', figureWidgetModel);\n                this.$set(this.models, 'figure', this.bbproxy(figureWidgetModel, [\"stereo\"], {\n                    \"scatters\": [\"visible\", \"description\", \"icon\", \"description_color\", \"hovered\"],\n                    \"meshes\": [\"visible\", \"description\", \"icon\", \"description_color\", \"hovered\"],\n                    \"volumes\": [\"visible\", \"description\", \"icon\", \"description_color\", \"hovered\"],\n                }));\n            })();\n        },\n        computed: {\n            marks() {\n                return [...this.models.figure.scatters, ...this.models.figure.meshes, ...this.models.figure.volumes]\n            },\n            // anyhover() {\n            //     if(this.models.scatters) {\n\n            //     }\n            //     return this.models.scatters && !this.models.scatters.every((s) => !s.hovered)\n            // }\n        },\n        methods: {\n            bbproxy(model, attrs, widgetAttrs) {\n                const proxy = {}\n\n                attrs.forEach((attr) => {\n                    console.log('setting', attr)\n                    let valueCopy = model.get(attr);\n                    model.on('change:' + attr, (_widget, value) => {\n                        proxy[attr] = value\n                    })\n                    Object.defineProperty(proxy, attr, {\n                        enumerable: true,\n                        configurable: true,                            \n                        get: () => {\n                            return valueCopy;\n                        },\n                        set: (value) => {\n                            valueCopy = value;\n                            model.set(attr, value);\n                            model.save_changes();\n                        },\n                    });\n                })\n                if(widgetAttrs) {\n                    Object.keys(widgetAttrs).forEach((attr) => {\n                        console.log('setting list', attr)\n                        let listValue = model.get(attr);\n                        let listValueProxy = [];\n                        if(listValue) {\n                            listValueProxy = listValue.map((k) => this.bbproxy(k, widgetAttrs[attr]));\n                        }\n                        model.on('change:' + attr, (_widget, value) => {\n                            console.log('changed list', attr, value)\n                            if(value) {\n                                proxy[attr] = value.map((k) => this.bbproxy(k, widgetAttrs[attr]))\n                            } else {\n                                proxy[attr] = null;\n                            }\n                        });\n\n                        Object.defineProperty(proxy, attr, {\n                            enumerable: true,\n                            configurable: true,                            \n                            get: () => {\n                                return listValueProxy;\n                            },\n                            set: (value) => {\n                                listValueProxy = value;\n                                console.log('ignore propagating set')\n                            },\n                        });\n                    })\n                }\n\n                return proxy;\n            },\n        }\n    }\n\n</script>\n"
          }
        },
        "9f4af4577159475a8580b69031df8e13": {
          "model_module": "jupyter-threejs",
          "model_name": "PerspectiveCameraModel",
          "model_module_version": "^2.4.1",
          "state": {
            "_model_module": "jupyter-threejs",
            "_model_module_version": "^2.4.1",
            "_model_name": "PerspectiveCameraModel",
            "_view_count": null,
            "_view_module": null,
            "_view_module_version": "",
            "_view_name": null,
            "aspect": 1.3333333333333333,
            "castShadow": false,
            "children": [],
            "far": 2000,
            "focus": 10,
            "fov": 45,
            "frustumCulled": true,
            "matrix": [
              -0.5142110884333286,
              0.6571919800202467,
              0.55107681672275,
              0,
              -0.8164986692818964,
              -0.17843571647365675,
              -0.5490816133758489,
              0,
              -0.26252024606323976,
              -0.7322973415789522,
              0.6283500011325658,
              0,
              -0.5250404921264791,
              -1.464594683157903,
              1.2567000022651305,
              1
            ],
            "matrixAutoUpdate": true,
            "matrixWorld": [
              -0.5142110884333286,
              0.6571919800202467,
              0.55107681672275,
              0,
              -0.8164986692818964,
              -0.17843571647365675,
              -0.5490816133758489,
              0,
              -0.26252024606323976,
              -0.7322973415789522,
              0.6283500011325658,
              0,
              -0.5250404921264791,
              -1.464594683157903,
              1.2567000022651305,
              1
            ],
            "matrixWorldInverse": [
              -0.5142110884333286,
              -0.8164986692818965,
              -0.2625202460632398,
              0,
              0.6571919800202466,
              -0.17843571647365672,
              -0.7322973415789523,
              0,
              0.55107681672275,
              -0.5490816133758489,
              0.628350001132566,
              0,
              0,
              -1.1102230246251565e-16,
              -1.9999999999999987,
              1.0000000000000002
            ],
            "matrixWorldNeedsUpdate": true,
            "modelViewMatrix": [
              1,
              0,
              0,
              0,
              0,
              1,
              0,
              0,
              0,
              0,
              1,
              0,
              0,
              0,
              0,
              1
            ],
            "name": "",
            "near": 0.1,
            "normalMatrix": [
              1,
              0,
              0,
              0,
              1,
              0,
              0,
              0,
              1
            ],
            "position": [
              -0.5250404921264791,
              -1.464594683157903,
              1.2567000022651305
            ],
            "projectionMatrix": [
              1.8106601717798212,
              0,
              0,
              0,
              0,
              2.414213562373095,
              0,
              0,
              0,
              0,
              -1.00010000500025,
              -1,
              0,
              0,
              -0.200010000500025,
              0
            ],
            "quaternion": [
              0.09470299217522424,
              -0.42054291422728374,
              0.7617409018228494,
              0.4836587630307086
            ],
            "receiveShadow": false,
            "renderOrder": 0,
            "rotation": [
              0.8616455646846454,
              -0.2656331314851793,
              2.132822543756417,
              "XYZ"
            ],
            "scale": [
              1,
              1,
              1
            ],
            "type": "PerspectiveCamera",
            "up": [
              -0.8164986692818964,
              -0.17843571647365675,
              -0.5490816133758489
            ],
            "visible": true,
            "zoom": 1
          }
        },
        "64f9104e74fe4e869e77643c9084e393": {
          "model_module": "@jupyter-widgets/base",
          "model_name": "LayoutModel",
          "model_module_version": "1.2.0",
          "state": {
            "_model_module": "@jupyter-widgets/base",
            "_model_module_version": "1.2.0",
            "_model_name": "LayoutModel",
            "_view_count": null,
            "_view_module": "@jupyter-widgets/base",
            "_view_module_version": "1.2.0",
            "_view_name": "LayoutView",
            "align_content": null,
            "align_items": null,
            "align_self": null,
            "border": null,
            "bottom": null,
            "display": null,
            "flex": null,
            "flex_flow": null,
            "grid_area": null,
            "grid_auto_columns": null,
            "grid_auto_flow": null,
            "grid_auto_rows": null,
            "grid_column": null,
            "grid_gap": null,
            "grid_row": null,
            "grid_template_areas": null,
            "grid_template_columns": null,
            "grid_template_rows": null,
            "height": null,
            "justify_content": null,
            "justify_items": null,
            "left": null,
            "margin": null,
            "max_height": null,
            "max_width": null,
            "min_height": null,
            "min_width": null,
            "object_fit": null,
            "object_position": null,
            "order": null,
            "overflow": null,
            "overflow_x": null,
            "overflow_y": null,
            "padding": null,
            "right": null,
            "top": null,
            "visibility": null,
            "width": null
          }
        },
        "22403dca13c04d2ca4f634f4f3df7d86": {
          "model_module": "ipyvolume",
          "model_name": "MeshModel",
          "model_module_version": "~0.6.3",
          "state": {
            "_model_module": "ipyvolume",
            "_model_module_version": "~0.6.3",
            "_model_name": "MeshModel",
            "_view_count": null,
            "_view_module": "ipyvolume",
            "_view_module_version": "~0.6.3",
            "_view_name": "MeshView",
            "cast_shadow": true,
            "clicked": false,
            "color": "orange",
            "color_scale": null,
            "description": "Mesh 0",
            "description_color": "orange",
            "hovered": false,
            "icon": "mdi-triforce",
            "line_material": "IPY_MODEL_298eddd7764b4f12903a360f957ad3a8",
            "lines": null,
            "material": "IPY_MODEL_23bdd1423c2341d884f1571f07f4c99d",
            "popup": null,
            "receive_shadow": true,
            "sequence_index": 0,
            "texture": null,
            "triangles": [
              {
                "dtype": "uint32",
                "shape": [
                  12,
                  3
                ]
              }
            ],
            "u": null,
            "v": null,
            "visible": true,
            "volume": null,
            "x": [
              {
                "dtype": "float32",
                "shape": [
                  36
                ]
              }
            ],
            "x_offset": 0,
            "y": [
              {
                "dtype": "float32",
                "shape": [
                  36
                ]
              }
            ],
            "y_offset": 0,
            "z": [
              {
                "dtype": "float32",
                "shape": [
                  36
                ]
              }
            ],
            "z_offset": 0,
            "hovered_index": null,
            "clicked_index": null
          }
        },
        "7d589ed902cd47fe89fa3b71427b5bed": {
          "model_module": "bqplot",
          "model_name": "LinearScaleModel",
          "model_module_version": "^0.5",
          "state": {
            "_model_module": "bqplot",
            "_model_module_version": "^0.5",
            "_model_name": "LinearScaleModel",
            "_view_count": null,
            "_view_module": "bqplot",
            "_view_module_version": "^0.5",
            "_view_name": "LinearScale",
            "allow_padding": true,
            "max": 20,
            "mid_range": 0.8,
            "min": -20,
            "min_range": 0.6,
            "reverse": false,
            "stabilized": false
          }
        },
        "794bf76447e64c989dba6c8603ef7222": {
          "model_module": "bqplot",
          "model_name": "LinearScaleModel",
          "model_module_version": "^0.5",
          "state": {
            "_model_module": "bqplot",
            "_model_module_version": "^0.5",
            "_model_name": "LinearScaleModel",
            "_view_count": null,
            "_view_module": "bqplot",
            "_view_module_version": "^0.5",
            "_view_name": "LinearScale",
            "allow_padding": true,
            "max": 20,
            "mid_range": 0.8,
            "min": -20,
            "min_range": 0.6,
            "reverse": false,
            "stabilized": false
          }
        },
        "3485a1ceec5c40fe825344df440700c5": {
          "model_module": "bqplot",
          "model_name": "LinearScaleModel",
          "model_module_version": "^0.5",
          "state": {
            "_model_module": "bqplot",
            "_model_module_version": "^0.5",
            "_model_name": "LinearScaleModel",
            "_view_count": null,
            "_view_module": "bqplot",
            "_view_module_version": "^0.5",
            "_view_name": "LinearScale",
            "allow_padding": true,
            "max": 40,
            "mid_range": 0.8,
            "min": 0,
            "min_range": 0.6,
            "reverse": false,
            "stabilized": false
          }
        },
        "74d47aa66d25499f979b29d5cb89fe2b": {
          "model_module": "jupyter-threejs",
          "model_name": "SceneModel",
          "model_module_version": "^2.4.1",
          "state": {
            "_model_module": "jupyter-threejs",
            "_model_module_version": "^2.4.1",
            "_model_name": "SceneModel",
            "_view_count": null,
            "_view_module": null,
            "_view_module_version": "",
            "_view_name": null,
            "autoUpdate": true,
            "background": null,
            "castShadow": false,
            "children": [],
            "fog": null,
            "frustumCulled": true,
            "matrix": [
              1,
              0,
              0,
              0,
              0,
              1,
              0,
              0,
              0,
              0,
              1,
              0,
              0,
              0,
              0,
              1
            ],
            "matrixAutoUpdate": true,
            "matrixWorld": [
              1,
              0,
              0,
              0,
              0,
              1,
              0,
              0,
              0,
              0,
              1,
              0,
              0,
              0,
              0,
              1
            ],
            "matrixWorldNeedsUpdate": false,
            "modelViewMatrix": [
              1,
              0,
              0,
              0,
              0,
              1,
              0,
              0,
              0,
              0,
              1,
              0,
              0,
              0,
              0,
              1
            ],
            "name": "",
            "normalMatrix": [
              1,
              0,
              0,
              0,
              1,
              0,
              0,
              0,
              1
            ],
            "overrideMaterial": null,
            "position": [
              0,
              0,
              0
            ],
            "quaternion": [
              0,
              0,
              0,
              1
            ],
            "receiveShadow": false,
            "renderOrder": 0,
            "rotation": [
              0,
              0,
              0,
              "XYZ"
            ],
            "scale": [
              1,
              1,
              1
            ],
            "type": "Scene",
            "up": [
              0,
              1,
              0
            ],
            "visible": true
          }
        },
        "298eddd7764b4f12903a360f957ad3a8": {
          "model_module": "jupyter-threejs",
          "model_name": "ShaderMaterialModel",
          "model_module_version": "^2.4.1",
          "state": {
            "_model_module": "jupyter-threejs",
            "_model_module_version": "^2.4.1",
            "_model_name": "ShaderMaterialModel",
            "_view_count": null,
            "_view_module": null,
            "_view_module_version": "",
            "_view_name": null,
            "alphaTest": 0,
            "blendDst": "OneMinusSrcAlphaFactor",
            "blendDstAlpha": 0,
            "blendEquation": "AddEquation",
            "blendEquationAlpha": 0,
            "blendSrc": "SrcAlphaFactor",
            "blendSrcAlpha": 0,
            "blending": "NormalBlending",
            "clipIntersection": false,
            "clipShadows": false,
            "clipping": false,
            "clippingPlanes": [],
            "colorWrite": true,
            "defines": null,
            "depthFunc": "LessEqualDepth",
            "depthTest": true,
            "depthWrite": true,
            "dithering": false,
            "extensions": {},
            "flatShading": false,
            "fog": false,
            "fragmentShader": "",
            "lights": false,
            "linewidth": 1,
            "morphNormals": false,
            "morphTargets": false,
            "name": "",
            "opacity": 1,
            "overdraw": 0,
            "polygonOffset": false,
            "polygonOffsetFactor": 0,
            "polygonOffsetUnits": 0,
            "precision": null,
            "premultipliedAlpha": false,
            "shadowSide": null,
            "side": "FrontSide",
            "skinning": false,
            "transparent": false,
            "type": "ShaderMaterial",
            "uniforms": {},
            "uniformsNeedUpdate": false,
            "vertexColors": "NoColors",
            "vertexShader": "",
            "visible": true,
            "wireframe": false,
            "wireframeLinewidth": 1
          }
        },
        "23bdd1423c2341d884f1571f07f4c99d": {
          "model_module": "jupyter-threejs",
          "model_name": "ShaderMaterialModel",
          "model_module_version": "^2.4.1",
          "state": {
            "_model_module": "jupyter-threejs",
            "_model_module_version": "^2.4.1",
            "_model_name": "ShaderMaterialModel",
            "_view_count": null,
            "_view_module": null,
            "_view_module_version": "",
            "_view_name": null,
            "alphaTest": 0,
            "blendDst": "OneMinusSrcAlphaFactor",
            "blendDstAlpha": 0,
            "blendEquation": "AddEquation",
            "blendEquationAlpha": 0,
            "blendSrc": "SrcAlphaFactor",
            "blendSrcAlpha": 0,
            "blending": "NormalBlending",
            "clipIntersection": false,
            "clipShadows": false,
            "clipping": false,
            "clippingPlanes": [],
            "colorWrite": true,
            "defines": null,
            "depthFunc": "LessEqualDepth",
            "depthTest": true,
            "depthWrite": true,
            "dithering": false,
            "extensions": {},
            "flatShading": false,
            "fog": false,
            "fragmentShader": "",
            "lights": false,
            "linewidth": 1,
            "morphNormals": false,
            "morphTargets": false,
            "name": "",
            "opacity": 1,
            "overdraw": 0,
            "polygonOffset": false,
            "polygonOffsetFactor": 0,
            "polygonOffsetUnits": 0,
            "precision": null,
            "premultipliedAlpha": false,
            "shadowSide": null,
            "side": "DoubleSide",
            "skinning": false,
            "transparent": false,
            "type": "ShaderMaterial",
            "uniforms": {},
            "uniformsNeedUpdate": false,
            "vertexColors": "NoColors",
            "vertexShader": "",
            "visible": true,
            "wireframe": false,
            "wireframeLinewidth": 1
          }
        }
      }
    }
  },
  "cells": [
    {
      "cell_type": "code",
      "source": [
        "# prompt: Install ipyvolume in google colab\n",
        "\n",
        "!pip install ipyvolume numpy-stl numpy\n",
        "!jupyter nbextension enable --py --sys-prefix ipyvolume\n"
      ],
      "metadata": {
        "colab": {
          "base_uri": "https://localhost:8080/"
        },
        "id": "VVYhduUSD4GM",
        "outputId": "9bd176ce-5889-4512-9bf0-e8c1146de830"
      },
      "execution_count": null,
      "outputs": [
        {
          "output_type": "stream",
          "name": "stdout",
          "text": [
            "Requirement already satisfied: ipyvolume in /usr/local/lib/python3.10/dist-packages (0.6.3)\n",
            "Requirement already satisfied: numpy-stl in /usr/local/lib/python3.10/dist-packages (3.2.0)\n",
            "Requirement already satisfied: numpy in /usr/local/lib/python3.10/dist-packages (1.26.4)\n",
            "Requirement already satisfied: ipywidgets>=7.0.0 in /usr/local/lib/python3.10/dist-packages (from ipyvolume) (7.7.1)\n",
            "Requirement already satisfied: bqplot in /usr/local/lib/python3.10/dist-packages (from ipyvolume) (0.12.43)\n",
            "Requirement already satisfied: traittypes in /usr/local/lib/python3.10/dist-packages (from ipyvolume) (0.2.1)\n",
            "Requirement already satisfied: traitlets in /usr/local/lib/python3.10/dist-packages (from ipyvolume) (5.7.1)\n",
            "Requirement already satisfied: Pillow in /usr/local/lib/python3.10/dist-packages (from ipyvolume) (11.0.0)\n",
            "Requirement already satisfied: ipywebrtc in /usr/local/lib/python3.10/dist-packages (from ipyvolume) (0.6.0)\n",
            "Requirement already satisfied: requests in /usr/local/lib/python3.10/dist-packages (from ipyvolume) (2.32.3)\n",
            "Requirement already satisfied: ipyvuetify in /usr/local/lib/python3.10/dist-packages (from ipyvolume) (1.10.0)\n",
            "Requirement already satisfied: ipyvue>=1.7.0 in /usr/local/lib/python3.10/dist-packages (from ipyvolume) (1.11.2)\n",
            "Requirement already satisfied: pythreejs>=2.4.0 in /usr/local/lib/python3.10/dist-packages (from ipyvolume) (2.4.2)\n",
            "Requirement already satisfied: matplotlib in /usr/local/lib/python3.10/dist-packages (from ipyvolume) (3.8.0)\n",
            "Requirement already satisfied: python-utils>=3.4.5 in /usr/local/lib/python3.10/dist-packages (from numpy-stl) (3.9.1)\n",
            "Requirement already satisfied: ipykernel>=4.5.1 in /usr/local/lib/python3.10/dist-packages (from ipywidgets>=7.0.0->ipyvolume) (5.5.6)\n",
            "Requirement already satisfied: ipython-genutils~=0.2.0 in /usr/local/lib/python3.10/dist-packages (from ipywidgets>=7.0.0->ipyvolume) (0.2.0)\n",
            "Requirement already satisfied: widgetsnbextension~=3.6.0 in /usr/local/lib/python3.10/dist-packages (from ipywidgets>=7.0.0->ipyvolume) (3.6.10)\n",
            "Requirement already satisfied: ipython>=4.0.0 in /usr/local/lib/python3.10/dist-packages (from ipywidgets>=7.0.0->ipyvolume) (7.34.0)\n",
            "Requirement already satisfied: jupyterlab-widgets>=1.0.0 in /usr/local/lib/python3.10/dist-packages (from ipywidgets>=7.0.0->ipyvolume) (3.0.13)\n",
            "Requirement already satisfied: typing_extensions>3.10.0.2 in /usr/local/lib/python3.10/dist-packages (from python-utils>=3.4.5->numpy-stl) (4.12.2)\n",
            "Requirement already satisfied: ipydatawidgets>=1.1.1 in /usr/local/lib/python3.10/dist-packages (from pythreejs>=2.4.0->ipyvolume) (4.3.5)\n",
            "Requirement already satisfied: pandas<3.0.0,>=1.0.0 in /usr/local/lib/python3.10/dist-packages (from bqplot->ipyvolume) (2.2.2)\n",
            "Requirement already satisfied: contourpy>=1.0.1 in /usr/local/lib/python3.10/dist-packages (from matplotlib->ipyvolume) (1.3.1)\n",
            "Requirement already satisfied: cycler>=0.10 in /usr/local/lib/python3.10/dist-packages (from matplotlib->ipyvolume) (0.12.1)\n",
            "Requirement already satisfied: fonttools>=4.22.0 in /usr/local/lib/python3.10/dist-packages (from matplotlib->ipyvolume) (4.55.3)\n",
            "Requirement already satisfied: kiwisolver>=1.0.1 in /usr/local/lib/python3.10/dist-packages (from matplotlib->ipyvolume) (1.4.7)\n",
            "Requirement already satisfied: packaging>=20.0 in /usr/local/lib/python3.10/dist-packages (from matplotlib->ipyvolume) (24.2)\n",
            "Requirement already satisfied: pyparsing>=2.3.1 in /usr/local/lib/python3.10/dist-packages (from matplotlib->ipyvolume) (3.2.0)\n",
            "Requirement already satisfied: python-dateutil>=2.7 in /usr/local/lib/python3.10/dist-packages (from matplotlib->ipyvolume) (2.8.2)\n",
            "Requirement already satisfied: charset-normalizer<4,>=2 in /usr/local/lib/python3.10/dist-packages (from requests->ipyvolume) (3.4.0)\n",
            "Requirement already satisfied: idna<4,>=2.5 in /usr/local/lib/python3.10/dist-packages (from requests->ipyvolume) (3.10)\n",
            "Requirement already satisfied: urllib3<3,>=1.21.1 in /usr/local/lib/python3.10/dist-packages (from requests->ipyvolume) (2.2.3)\n",
            "Requirement already satisfied: certifi>=2017.4.17 in /usr/local/lib/python3.10/dist-packages (from requests->ipyvolume) (2024.12.14)\n",
            "Requirement already satisfied: jupyter-client in /usr/local/lib/python3.10/dist-packages (from ipykernel>=4.5.1->ipywidgets>=7.0.0->ipyvolume) (6.1.12)\n",
            "Requirement already satisfied: tornado>=4.2 in /usr/local/lib/python3.10/dist-packages (from ipykernel>=4.5.1->ipywidgets>=7.0.0->ipyvolume) (6.3.3)\n",
            "Requirement already satisfied: setuptools>=18.5 in /usr/local/lib/python3.10/dist-packages (from ipython>=4.0.0->ipywidgets>=7.0.0->ipyvolume) (75.1.0)\n",
            "Requirement already satisfied: jedi>=0.16 in /usr/local/lib/python3.10/dist-packages (from ipython>=4.0.0->ipywidgets>=7.0.0->ipyvolume) (0.19.2)\n",
            "Requirement already satisfied: decorator in /usr/local/lib/python3.10/dist-packages (from ipython>=4.0.0->ipywidgets>=7.0.0->ipyvolume) (4.4.2)\n",
            "Requirement already satisfied: pickleshare in /usr/local/lib/python3.10/dist-packages (from ipython>=4.0.0->ipywidgets>=7.0.0->ipyvolume) (0.7.5)\n",
            "Requirement already satisfied: prompt-toolkit!=3.0.0,!=3.0.1,<3.1.0,>=2.0.0 in /usr/local/lib/python3.10/dist-packages (from ipython>=4.0.0->ipywidgets>=7.0.0->ipyvolume) (3.0.48)\n",
            "Requirement already satisfied: pygments in /usr/local/lib/python3.10/dist-packages (from ipython>=4.0.0->ipywidgets>=7.0.0->ipyvolume) (2.18.0)\n",
            "Requirement already satisfied: backcall in /usr/local/lib/python3.10/dist-packages (from ipython>=4.0.0->ipywidgets>=7.0.0->ipyvolume) (0.2.0)\n",
            "Requirement already satisfied: matplotlib-inline in /usr/local/lib/python3.10/dist-packages (from ipython>=4.0.0->ipywidgets>=7.0.0->ipyvolume) (0.1.7)\n",
            "Requirement already satisfied: pexpect>4.3 in /usr/local/lib/python3.10/dist-packages (from ipython>=4.0.0->ipywidgets>=7.0.0->ipyvolume) (4.9.0)\n",
            "Requirement already satisfied: pytz>=2020.1 in /usr/local/lib/python3.10/dist-packages (from pandas<3.0.0,>=1.0.0->bqplot->ipyvolume) (2024.2)\n",
            "Requirement already satisfied: tzdata>=2022.7 in /usr/local/lib/python3.10/dist-packages (from pandas<3.0.0,>=1.0.0->bqplot->ipyvolume) (2024.2)\n",
            "Requirement already satisfied: six>=1.5 in /usr/local/lib/python3.10/dist-packages (from python-dateutil>=2.7->matplotlib->ipyvolume) (1.17.0)\n",
            "Requirement already satisfied: notebook>=4.4.1 in /usr/local/lib/python3.10/dist-packages (from widgetsnbextension~=3.6.0->ipywidgets>=7.0.0->ipyvolume) (6.5.5)\n",
            "Requirement already satisfied: parso<0.9.0,>=0.8.4 in /usr/local/lib/python3.10/dist-packages (from jedi>=0.16->ipython>=4.0.0->ipywidgets>=7.0.0->ipyvolume) (0.8.4)\n",
            "Requirement already satisfied: jinja2 in /usr/local/lib/python3.10/dist-packages (from notebook>=4.4.1->widgetsnbextension~=3.6.0->ipywidgets>=7.0.0->ipyvolume) (3.1.4)\n",
            "Requirement already satisfied: pyzmq<25,>=17 in /usr/local/lib/python3.10/dist-packages (from notebook>=4.4.1->widgetsnbextension~=3.6.0->ipywidgets>=7.0.0->ipyvolume) (24.0.1)\n",
            "Requirement already satisfied: argon2-cffi in /usr/local/lib/python3.10/dist-packages (from notebook>=4.4.1->widgetsnbextension~=3.6.0->ipywidgets>=7.0.0->ipyvolume) (23.1.0)\n",
            "Requirement already satisfied: jupyter-core>=4.6.1 in /usr/local/lib/python3.10/dist-packages (from notebook>=4.4.1->widgetsnbextension~=3.6.0->ipywidgets>=7.0.0->ipyvolume) (5.7.2)\n",
            "Requirement already satisfied: nbformat in /usr/local/lib/python3.10/dist-packages (from notebook>=4.4.1->widgetsnbextension~=3.6.0->ipywidgets>=7.0.0->ipyvolume) (5.10.4)\n",
            "Requirement already satisfied: nbconvert>=5 in /usr/local/lib/python3.10/dist-packages (from notebook>=4.4.1->widgetsnbextension~=3.6.0->ipywidgets>=7.0.0->ipyvolume) (7.16.4)\n",
            "Requirement already satisfied: nest-asyncio>=1.5 in /usr/local/lib/python3.10/dist-packages (from notebook>=4.4.1->widgetsnbextension~=3.6.0->ipywidgets>=7.0.0->ipyvolume) (1.6.0)\n",
            "Requirement already satisfied: Send2Trash>=1.8.0 in /usr/local/lib/python3.10/dist-packages (from notebook>=4.4.1->widgetsnbextension~=3.6.0->ipywidgets>=7.0.0->ipyvolume) (1.8.3)\n",
            "Requirement already satisfied: terminado>=0.8.3 in /usr/local/lib/python3.10/dist-packages (from notebook>=4.4.1->widgetsnbextension~=3.6.0->ipywidgets>=7.0.0->ipyvolume) (0.18.1)\n",
            "Requirement already satisfied: prometheus-client in /usr/local/lib/python3.10/dist-packages (from notebook>=4.4.1->widgetsnbextension~=3.6.0->ipywidgets>=7.0.0->ipyvolume) (0.21.1)\n",
            "Requirement already satisfied: nbclassic>=0.4.7 in /usr/local/lib/python3.10/dist-packages (from notebook>=4.4.1->widgetsnbextension~=3.6.0->ipywidgets>=7.0.0->ipyvolume) (1.1.0)\n",
            "Requirement already satisfied: ptyprocess>=0.5 in /usr/local/lib/python3.10/dist-packages (from pexpect>4.3->ipython>=4.0.0->ipywidgets>=7.0.0->ipyvolume) (0.7.0)\n",
            "Requirement already satisfied: wcwidth in /usr/local/lib/python3.10/dist-packages (from prompt-toolkit!=3.0.0,!=3.0.1,<3.1.0,>=2.0.0->ipython>=4.0.0->ipywidgets>=7.0.0->ipyvolume) (0.2.13)\n",
            "Requirement already satisfied: platformdirs>=2.5 in /usr/local/lib/python3.10/dist-packages (from jupyter-core>=4.6.1->notebook>=4.4.1->widgetsnbextension~=3.6.0->ipywidgets>=7.0.0->ipyvolume) (4.3.6)\n",
            "Requirement already satisfied: notebook-shim>=0.2.3 in /usr/local/lib/python3.10/dist-packages (from nbclassic>=0.4.7->notebook>=4.4.1->widgetsnbextension~=3.6.0->ipywidgets>=7.0.0->ipyvolume) (0.2.4)\n",
            "Requirement already satisfied: beautifulsoup4 in /usr/local/lib/python3.10/dist-packages (from nbconvert>=5->notebook>=4.4.1->widgetsnbextension~=3.6.0->ipywidgets>=7.0.0->ipyvolume) (4.12.3)\n",
            "Requirement already satisfied: bleach!=5.0.0 in /usr/local/lib/python3.10/dist-packages (from nbconvert>=5->notebook>=4.4.1->widgetsnbextension~=3.6.0->ipywidgets>=7.0.0->ipyvolume) (6.2.0)\n",
            "Requirement already satisfied: defusedxml in /usr/local/lib/python3.10/dist-packages (from nbconvert>=5->notebook>=4.4.1->widgetsnbextension~=3.6.0->ipywidgets>=7.0.0->ipyvolume) (0.7.1)\n",
            "Requirement already satisfied: jupyterlab-pygments in /usr/local/lib/python3.10/dist-packages (from nbconvert>=5->notebook>=4.4.1->widgetsnbextension~=3.6.0->ipywidgets>=7.0.0->ipyvolume) (0.3.0)\n",
            "Requirement already satisfied: markupsafe>=2.0 in /usr/local/lib/python3.10/dist-packages (from nbconvert>=5->notebook>=4.4.1->widgetsnbextension~=3.6.0->ipywidgets>=7.0.0->ipyvolume) (3.0.2)\n",
            "Requirement already satisfied: mistune<4,>=2.0.3 in /usr/local/lib/python3.10/dist-packages (from nbconvert>=5->notebook>=4.4.1->widgetsnbextension~=3.6.0->ipywidgets>=7.0.0->ipyvolume) (3.0.2)\n",
            "Requirement already satisfied: nbclient>=0.5.0 in /usr/local/lib/python3.10/dist-packages (from nbconvert>=5->notebook>=4.4.1->widgetsnbextension~=3.6.0->ipywidgets>=7.0.0->ipyvolume) (0.10.1)\n",
            "Requirement already satisfied: pandocfilters>=1.4.1 in /usr/local/lib/python3.10/dist-packages (from nbconvert>=5->notebook>=4.4.1->widgetsnbextension~=3.6.0->ipywidgets>=7.0.0->ipyvolume) (1.5.1)\n",
            "Requirement already satisfied: tinycss2 in /usr/local/lib/python3.10/dist-packages (from nbconvert>=5->notebook>=4.4.1->widgetsnbextension~=3.6.0->ipywidgets>=7.0.0->ipyvolume) (1.4.0)\n",
            "Requirement already satisfied: fastjsonschema>=2.15 in /usr/local/lib/python3.10/dist-packages (from nbformat->notebook>=4.4.1->widgetsnbextension~=3.6.0->ipywidgets>=7.0.0->ipyvolume) (2.21.1)\n",
            "Requirement already satisfied: jsonschema>=2.6 in /usr/local/lib/python3.10/dist-packages (from nbformat->notebook>=4.4.1->widgetsnbextension~=3.6.0->ipywidgets>=7.0.0->ipyvolume) (4.23.0)\n",
            "Requirement already satisfied: argon2-cffi-bindings in /usr/local/lib/python3.10/dist-packages (from argon2-cffi->notebook>=4.4.1->widgetsnbextension~=3.6.0->ipywidgets>=7.0.0->ipyvolume) (21.2.0)\n",
            "Requirement already satisfied: webencodings in /usr/local/lib/python3.10/dist-packages (from bleach!=5.0.0->nbconvert>=5->notebook>=4.4.1->widgetsnbextension~=3.6.0->ipywidgets>=7.0.0->ipyvolume) (0.5.1)\n",
            "Requirement already satisfied: attrs>=22.2.0 in /usr/local/lib/python3.10/dist-packages (from jsonschema>=2.6->nbformat->notebook>=4.4.1->widgetsnbextension~=3.6.0->ipywidgets>=7.0.0->ipyvolume) (24.3.0)\n",
            "Requirement already satisfied: jsonschema-specifications>=2023.03.6 in /usr/local/lib/python3.10/dist-packages (from jsonschema>=2.6->nbformat->notebook>=4.4.1->widgetsnbextension~=3.6.0->ipywidgets>=7.0.0->ipyvolume) (2024.10.1)\n",
            "Requirement already satisfied: referencing>=0.28.4 in /usr/local/lib/python3.10/dist-packages (from jsonschema>=2.6->nbformat->notebook>=4.4.1->widgetsnbextension~=3.6.0->ipywidgets>=7.0.0->ipyvolume) (0.35.1)\n",
            "Requirement already satisfied: rpds-py>=0.7.1 in /usr/local/lib/python3.10/dist-packages (from jsonschema>=2.6->nbformat->notebook>=4.4.1->widgetsnbextension~=3.6.0->ipywidgets>=7.0.0->ipyvolume) (0.22.3)\n",
            "Requirement already satisfied: jupyter-server<3,>=1.8 in /usr/local/lib/python3.10/dist-packages (from notebook-shim>=0.2.3->nbclassic>=0.4.7->notebook>=4.4.1->widgetsnbextension~=3.6.0->ipywidgets>=7.0.0->ipyvolume) (1.24.0)\n",
            "Requirement already satisfied: cffi>=1.0.1 in /usr/local/lib/python3.10/dist-packages (from argon2-cffi-bindings->argon2-cffi->notebook>=4.4.1->widgetsnbextension~=3.6.0->ipywidgets>=7.0.0->ipyvolume) (1.17.1)\n",
            "Requirement already satisfied: soupsieve>1.2 in /usr/local/lib/python3.10/dist-packages (from beautifulsoup4->nbconvert>=5->notebook>=4.4.1->widgetsnbextension~=3.6.0->ipywidgets>=7.0.0->ipyvolume) (2.6)\n",
            "Requirement already satisfied: pycparser in /usr/local/lib/python3.10/dist-packages (from cffi>=1.0.1->argon2-cffi-bindings->argon2-cffi->notebook>=4.4.1->widgetsnbextension~=3.6.0->ipywidgets>=7.0.0->ipyvolume) (2.22)\n",
            "Requirement already satisfied: anyio<4,>=3.1.0 in /usr/local/lib/python3.10/dist-packages (from jupyter-server<3,>=1.8->notebook-shim>=0.2.3->nbclassic>=0.4.7->notebook>=4.4.1->widgetsnbextension~=3.6.0->ipywidgets>=7.0.0->ipyvolume) (3.7.1)\n",
            "Requirement already satisfied: websocket-client in /usr/local/lib/python3.10/dist-packages (from jupyter-server<3,>=1.8->notebook-shim>=0.2.3->nbclassic>=0.4.7->notebook>=4.4.1->widgetsnbextension~=3.6.0->ipywidgets>=7.0.0->ipyvolume) (1.8.0)\n",
            "Requirement already satisfied: sniffio>=1.1 in /usr/local/lib/python3.10/dist-packages (from anyio<4,>=3.1.0->jupyter-server<3,>=1.8->notebook-shim>=0.2.3->nbclassic>=0.4.7->notebook>=4.4.1->widgetsnbextension~=3.6.0->ipywidgets>=7.0.0->ipyvolume) (1.3.1)\n",
            "Requirement already satisfied: exceptiongroup in /usr/local/lib/python3.10/dist-packages (from anyio<4,>=3.1.0->jupyter-server<3,>=1.8->notebook-shim>=0.2.3->nbclassic>=0.4.7->notebook>=4.4.1->widgetsnbextension~=3.6.0->ipywidgets>=7.0.0->ipyvolume) (1.2.2)\n",
            "Enabling notebook extension ipyvolume/extension...\n",
            "Paths used for configuration of notebook: \n",
            "    \t/usr/etc/jupyter/nbconfig/notebook.json\n",
            "Paths used for configuration of notebook: \n",
            "    \t\n",
            "      - Validating: \u001b[32mOK\u001b[0m\n",
            "Paths used for configuration of notebook: \n",
            "    \t/usr/etc/jupyter/nbconfig/notebook.json\n"
          ]
        }
      ]
    },
    {
      "cell_type": "code",
      "execution_count": null,
      "metadata": {
        "colab": {
          "base_uri": "https://localhost:8080/",
          "height": 652,
          "referenced_widgets": [
            "3c867daa03a741bb94b1277805fc7ce2",
            "e1052cc1bc014ef7b5462c92e833628e",
            "05b78eeb340c47dcb1a1658411970573",
            "f1e7865da5aa4d5e9f14de5bcaf0b175",
            "4cb8212454a442168b80f4730925a035",
            "53e921f984854168b67f09b698dd981e",
            "a90421fb1c2a481b837d23d89da6c4fe",
            "ddff5598b57b458e9d7b4d80b0df4411",
            "9f4af4577159475a8580b69031df8e13",
            "64f9104e74fe4e869e77643c9084e393",
            "22403dca13c04d2ca4f634f4f3df7d86",
            "7d589ed902cd47fe89fa3b71427b5bed",
            "794bf76447e64c989dba6c8603ef7222",
            "3485a1ceec5c40fe825344df440700c5",
            "74d47aa66d25499f979b29d5cb89fe2b",
            "298eddd7764b4f12903a360f957ad3a8",
            "23bdd1423c2341d884f1571f07f4c99d"
          ]
        },
        "id": "BL1qQDHQDxDP",
        "outputId": "d6734d32-66e1-4c61-f6bf-04f5707aa9e2"
      },
      "outputs": [
        {
          "output_type": "display_data",
          "data": {
            "text/plain": [
              "Html(layout=None, style_='display: none', tag='span')"
            ],
            "application/vnd.jupyter.widget-view+json": {
              "version_major": 2,
              "version_minor": 0,
              "model_id": "3c867daa03a741bb94b1277805fc7ce2"
            }
          },
          "metadata": {
            "application/vnd.jupyter.widget-view+json": {
              "colab": {
                "custom_widget_manager": {
                  "url": "https://ssl.gstatic.com/colaboratory-static/widgets/colab-cdn-widget-manager/2b70e893a8ba7c0f/manager.min.js"
                }
              }
            }
          }
        },
        {
          "output_type": "display_data",
          "data": {
            "text/plain": [
              "Container(figure=Figure(box_center=[0.5, 0.5, 0.5], box_size=[1.0, 1.0, 1.0], camera=PerspectiveCamera(fov=45.…"
            ],
            "application/vnd.jupyter.widget-view+json": {
              "version_major": 2,
              "version_minor": 0,
              "model_id": "e1052cc1bc014ef7b5462c92e833628e"
            }
          },
          "metadata": {
            "application/vnd.jupyter.widget-view+json": {
              "colab": {
                "custom_widget_manager": {
                  "url": "https://ssl.gstatic.com/colaboratory-static/widgets/colab-cdn-widget-manager/2b70e893a8ba7c0f/manager.min.js"
                }
              }
            }
          }
        }
      ],
      "source": [
        "import ipyvolume as ipv\n",
        "from stl import mesh\n",
        "import numpy as np\n",
        "\n",
        "#!wget https://raw.githubusercontent.com/Buildbee/example-stl/main/ascii-cube.stl\n",
        "\n",
        "\n",
        "my_mesh = mesh.Mesh.from_file('ascii-cube.stl')\n",
        "\n",
        "\n",
        "\n",
        "fig = ipv.figure()\n",
        "n = len(my_mesh.v0)\n",
        "ipv.plot_trisurf(x=my_mesh.x.ravel(order='F'),\n",
        "                 y=my_mesh.y.ravel(order='F'),\n",
        "                 z=my_mesh.z.ravel(order='F'),\n",
        "                 triangles=np.arange(3*n).reshape(n,3,order='F'),\n",
        "                 color=\"orange\")\n",
        "ipv.show()"
      ]
    }
  ]
}